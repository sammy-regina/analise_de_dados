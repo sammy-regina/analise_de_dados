{
 "cells": [
  {
   "cell_type": "code",
   "execution_count": 3,
   "id": "f56b735b",
   "metadata": {},
   "outputs": [
    {
     "data": {
      "text/html": [
       "<div>\n",
       "<style scoped>\n",
       "    .dataframe tbody tr th:only-of-type {\n",
       "        vertical-align: middle;\n",
       "    }\n",
       "\n",
       "    .dataframe tbody tr th {\n",
       "        vertical-align: top;\n",
       "    }\n",
       "\n",
       "    .dataframe thead th {\n",
       "        text-align: right;\n",
       "    }\n",
       "</style>\n",
       "<table border=\"1\" class=\"dataframe\">\n",
       "  <thead>\n",
       "    <tr style=\"text-align: right;\">\n",
       "      <th></th>\n",
       "      <th>Price</th>\n",
       "    </tr>\n",
       "  </thead>\n",
       "  <tbody>\n",
       "    <tr>\n",
       "      <th>0</th>\n",
       "      <td>189.0</td>\n",
       "    </tr>\n",
       "    <tr>\n",
       "      <th>1</th>\n",
       "      <td>195.0</td>\n",
       "    </tr>\n",
       "    <tr>\n",
       "      <th>2</th>\n",
       "      <td>199.0</td>\n",
       "    </tr>\n",
       "    <tr>\n",
       "      <th>3</th>\n",
       "      <td>189.0</td>\n",
       "    </tr>\n",
       "    <tr>\n",
       "      <th>4</th>\n",
       "      <td>197.0</td>\n",
       "    </tr>\n",
       "    <tr>\n",
       "      <th>...</th>\n",
       "      <td>...</td>\n",
       "    </tr>\n",
       "    <tr>\n",
       "      <th>95</th>\n",
       "      <td>189.0</td>\n",
       "    </tr>\n",
       "    <tr>\n",
       "      <th>96</th>\n",
       "      <td>179.0</td>\n",
       "    </tr>\n",
       "    <tr>\n",
       "      <th>97</th>\n",
       "      <td>189.0</td>\n",
       "    </tr>\n",
       "    <tr>\n",
       "      <th>98</th>\n",
       "      <td>199.0</td>\n",
       "    </tr>\n",
       "    <tr>\n",
       "      <th>99</th>\n",
       "      <td>195.0</td>\n",
       "    </tr>\n",
       "  </tbody>\n",
       "</table>\n",
       "<p>100 rows × 1 columns</p>\n",
       "</div>"
      ],
      "text/plain": [
       "    Price\n",
       "0   189.0\n",
       "1   195.0\n",
       "2   199.0\n",
       "3   189.0\n",
       "4   197.0\n",
       "..    ...\n",
       "95  189.0\n",
       "96  179.0\n",
       "97  189.0\n",
       "98  199.0\n",
       "99  195.0\n",
       "\n",
       "[100 rows x 1 columns]"
      ]
     },
     "execution_count": 3,
     "metadata": {},
     "output_type": "execute_result"
    }
   ],
   "source": [
    "import pandas as pd #importa a biblioteca pandas para análise de dados\n",
    "\n",
    "DADOS = \"dados/precos_fone_ouvido.csv\" #cria variavel dados para o arquivo csv\n",
    "\n",
    "df = pd.read_csv(DADOS) #le o arquivo csv\n",
    "\n",
    "df #imprime o conteudo do arquivo na tela"
   ]
  },
  {
   "cell_type": "code",
   "execution_count": 4,
   "id": "0d033ab8",
   "metadata": {},
   "outputs": [
    {
     "name": "stdout",
     "output_type": "stream",
     "text": [
      "<class 'pandas.core.frame.DataFrame'>\n",
      "RangeIndex: 100 entries, 0 to 99\n",
      "Data columns (total 1 columns):\n",
      " #   Column  Non-Null Count  Dtype  \n",
      "---  ------  --------------  -----  \n",
      " 0   Price   100 non-null    float64\n",
      "dtypes: float64(1)\n",
      "memory usage: 932.0 bytes\n"
     ]
    }
   ],
   "source": [
    "df.info() # valida os tipos de dads no arquivo"
   ]
  },
  {
   "cell_type": "code",
   "execution_count": 9,
   "id": "4648cdcb",
   "metadata": {
    "scrolled": false
   },
   "outputs": [
    {
     "data": {
      "text/html": [
       "<div>\n",
       "<style scoped>\n",
       "    .dataframe tbody tr th:only-of-type {\n",
       "        vertical-align: middle;\n",
       "    }\n",
       "\n",
       "    .dataframe tbody tr th {\n",
       "        vertical-align: top;\n",
       "    }\n",
       "\n",
       "    .dataframe thead th {\n",
       "        text-align: right;\n",
       "    }\n",
       "</style>\n",
       "<table border=\"1\" class=\"dataframe\">\n",
       "  <thead>\n",
       "    <tr style=\"text-align: right;\">\n",
       "      <th></th>\n",
       "      <th>Price</th>\n",
       "    </tr>\n",
       "  </thead>\n",
       "  <tbody>\n",
       "    <tr>\n",
       "      <th>count</th>\n",
       "      <td>100.00</td>\n",
       "    </tr>\n",
       "    <tr>\n",
       "      <th>mean</th>\n",
       "      <td>190.77</td>\n",
       "    </tr>\n",
       "    <tr>\n",
       "      <th>std</th>\n",
       "      <td>15.62</td>\n",
       "    </tr>\n",
       "    <tr>\n",
       "      <th>min</th>\n",
       "      <td>149.00</td>\n",
       "    </tr>\n",
       "    <tr>\n",
       "      <th>25%</th>\n",
       "      <td>179.00</td>\n",
       "    </tr>\n",
       "    <tr>\n",
       "      <th>50%</th>\n",
       "      <td>189.00</td>\n",
       "    </tr>\n",
       "    <tr>\n",
       "      <th>75%</th>\n",
       "      <td>199.00</td>\n",
       "    </tr>\n",
       "    <tr>\n",
       "      <th>max</th>\n",
       "      <td>239.00</td>\n",
       "    </tr>\n",
       "  </tbody>\n",
       "</table>\n",
       "</div>"
      ],
      "text/plain": [
       "       Price\n",
       "count 100.00\n",
       "mean  190.77\n",
       "std    15.62\n",
       "min   149.00\n",
       "25%   179.00\n",
       "50%   189.00\n",
       "75%   199.00\n",
       "max   239.00"
      ]
     },
     "metadata": {},
     "output_type": "display_data"
    }
   ],
   "source": [
    "df.describe() #para entender o conjunto de valores numericos\n",
    " \n",
    "with pd.option_context(\"float_format\", \"{:.2f}\".format):\n",
    "    display(df.describe()) #formata para aparecer apenas 2 casas após a virgula ao imprimir na tela com o display"
   ]
  },
  {
   "cell_type": "markdown",
   "id": "f92169f3",
   "metadata": {},
   "source": [
    "### Análise Estatística de Preços de Fones de Ouvido\n",
    "\n",
    "Esta tabela resume as principais estatísticas de um conjunto de dados de preços.\n",
    "\n",
    "* **count (100):** Total de preços analisados.\n",
    "* **mean (190.77):** Preço médio.\n",
    "* **std (15.62):** Desvio padrão, indica a dispersão dos preços em relação à média.\n",
    "* **min (149):** Preço mínimo.\n",
    "* **25% (179):** Primeiro quartil (Q1). 25% dos preços são R$179 ou menos.\n",
    "* **50% (189):** Mediana. O valor central, com metade dos preços abaixo e metade acima.\n",
    "* **75% (199):** Terceiro quartil (Q3). 75% dos preços são 199,00 ou menos.\n",
    "* **max (239):** Preço máximo.\n",
    "\n",
    "**Interpretação:** A maioria dos preços (50% do meio) está entre 179,00 e 199,00, conforme indicado pelo intervalo interquartil (IQR)"
   ]
  },
  {
   "cell_type": "code",
   "execution_count": 10,
   "id": "109882be",
   "metadata": {},
   "outputs": [
    {
     "data": {
      "text/plain": [
       "Price\n",
       "199.0    21\n",
       "189.0    19\n",
       "179.0    13\n",
       "169.0     7\n",
       "209.0     6\n",
       "195.0     6\n",
       "205.0     4\n",
       "159.0     3\n",
       "170.0     2\n",
       "185.0     2\n",
       "175.0     2\n",
       "229.0     2\n",
       "215.0     2\n",
       "197.0     1\n",
       "202.0     1\n",
       "219.0     1\n",
       "149.0     1\n",
       "206.0     1\n",
       "183.0     1\n",
       "190.0     1\n",
       "165.0     1\n",
       "196.0     1\n",
       "182.0     1\n",
       "239.0     1\n",
       "Name: count, dtype: int64"
      ]
     },
     "execution_count": 10,
     "metadata": {},
     "output_type": "execute_result"
    }
   ],
   "source": [
    "df[\"Price\"].value_counts() # procura na coluna Price(Preço) e conta quantas vezes cada valor aparece individualmente"
   ]
  },
  {
   "cell_type": "code",
   "execution_count": 12,
   "id": "9fc5619c",
   "metadata": {},
   "outputs": [
    {
     "data": {
      "text/plain": [
       "(194.0, 203.0]      30\n",
       "(185.0, 194.0]      20\n",
       "(176.0, 185.0]      17\n",
       "(167.0, 176.0]      11\n",
       "(203.0, 212.0]      11\n",
       "(158.0, 167.0]       4\n",
       "(212.0, 221.0]       3\n",
       "(221.0, 230.0]       2\n",
       "(148.909, 158.0]     1\n",
       "(230.0, 239.0]       1\n",
       "Name: count, dtype: int64"
      ]
     },
     "execution_count": 12,
     "metadata": {},
     "output_type": "execute_result"
    }
   ],
   "source": [
    "df[\"Price\"].value_counts(bins=10) #bins divide o valor da variavel em intervalos"
   ]
  },
  {
   "cell_type": "code",
   "execution_count": 14,
   "id": "0aeb6895",
   "metadata": {},
   "outputs": [
    {
     "data": {
      "text/plain": [
       "(148.909, 158.0]     1\n",
       "(158.0, 167.0]       4\n",
       "(167.0, 176.0]      11\n",
       "(176.0, 185.0]      17\n",
       "(185.0, 194.0]      20\n",
       "(194.0, 203.0]      30\n",
       "(203.0, 212.0]      11\n",
       "(212.0, 221.0]       3\n",
       "(221.0, 230.0]       2\n",
       "(230.0, 239.0]       1\n",
       "Name: count, dtype: int64"
      ]
     },
     "execution_count": 14,
     "metadata": {},
     "output_type": "execute_result"
    }
   ],
   "source": [
    "df[\"Price\"].value_counts(bins=10).sort_index() # coloca os valores em ordem crescente"
   ]
  },
  {
   "cell_type": "markdown",
   "id": "c61df38e",
   "metadata": {},
   "source": [
    "Aqui fica evidente a faixa de preço onde tem a maior incidencia fones de ouvido no mesmo valor (esta é a linha de raciocínio por trás do histograma)\n"
   ]
  },
  {
   "cell_type": "markdown",
   "id": "bb16613e",
   "metadata": {},
   "source": [
    "### O que é um Histograma?\n",
    "\n",
    "Um histograma é um gráfico que mostra a distribuição de frequência de dados numéricos. Para construir um histograma, o primeiro passo é agrupar o intervalo de valores - dividir todo o intervalo de valores em uma série de intervalos - e depois contar quantos valores caem em cada intervalo. Ele agrupa os dados em intervalos (chamados de bins ou \"caixas\") e plota a contagem ou frequência de ocorrência de dados em cada bin.\n",
    "\n",
    "**Como interpretar:**\n",
    "Eixo X: Representa os valores dos dados (ex: idade, preço, altura).\n",
    "\n",
    "Eixo Y Mostra a frequência (contagem) de quantas vezes os valores do eixo X ocorreram.\n",
    "\n",
    "Barras: A altura de cada barra indica a frequência dos dados naquele intervalo.\n",
    "\n",
    "**Para que serve?**\n",
    "\n",
    "Histograms são ótimos para visualizar rapidamente a forma dos seus dados, identificar a frequência de valores, e detectar a presença de outliers ou múltiplos picos (distribuições multimodais)."
   ]
  },
  {
   "cell_type": "code",
   "execution_count": 16,
   "id": "207dcf0f",
   "metadata": {},
   "outputs": [
    {
     "data": {
      "text/plain": [
       "<Axes: xlabel='Price', ylabel='Count'>"
      ]
     },
     "execution_count": 16,
     "metadata": {},
     "output_type": "execute_result"
    },
    {
     "data": {
      "image/png": "[encoded data removed]",
      "text/plain": [
       "<Figure size 640x480 with 1 Axes>"
      ]
     },
     "metadata": {},
     "output_type": "display_data"
    }
   ],
   "source": [
    "import seaborn as sns # seaborn fornece uma interface de alto nível para criar gráficos estatísticos e informativos, tornando a visualização de dados mais fácil e atraente.\n",
    "\n",
    "sns.histplot(x=\"Price\", data=df, bins=10) # histplot usado para histogramas, bins muda o intervalo de valores do histograma"
   ]
  },
  {
   "cell_type": "code",
   "execution_count": 17,
   "id": "1ced1b94",
   "metadata": {},
   "outputs": [
    {
     "data": {
      "text/plain": [
       "<Axes: xlabel='Price', ylabel='Count'>"
      ]
     },
     "execution_count": 17,
     "metadata": {},
     "output_type": "execute_result"
    },
    {
     "data": {
      "image/png": "[encoded data removed]",
      "text/plain": [
       "<Figure size 640x480 with 1 Axes>"
      ]
     },
     "metadata": {},
     "output_type": "display_data"
    }
   ],
   "source": [
    "sns.histplot(x=\"Price\", data=df, bins=10, kde=True) # Kernel Density Estimation(KDE) ajuda a visualizar de forma mais suave uma variável contínua quando comparado a um histograma."
   ]
  },
  {
   "cell_type": "markdown",
   "id": "1a5b593a",
   "metadata": {},
   "source": [
    "## Boxplot\n",
    "\n",
    "Um boxplot é um método para demonstrar graficamente a localidade (tendência central), dispersão e assimetria de grupos de dados numéricos através de seus quartis. \n",
    "\n",
    "Além da caixa em um boxplot, pode haver linhas (chamadas de *whiskers*, bigodes em portuês) que se estendem da caixa indicando variabilidade (distância entre os valores) fora dos quartis superiores e inferiores. Outliers que diferem significativamente do restante do conjunto de dados podem ser plotados como pontos individuais além dos bigodes no boxplot. Boxplots são não-paramétricos: eles exibem variação em amostras de uma população estatística sem fazer nenhuma suposição sobre a distribuição estatística subjacente. Os espaçamentos em cada subseção do boxplot indicam o grau de dispersão e assimetria dos dados. Boxplots podem ser desenhados horizontalmente ou verticalmente.\n",
    "\n",
    "Um boxplot é uma maneira padronizada de exibir o conjunto de dados com base no resumo dos cinco números: o mínimo, o máximo, a mediana da amostra e o primeiro e terceiro quartis.\n",
    "\n",
    "- Mínimo (Q0 ou 0º percentil): o ponto de dados mais baixo no conjunto de dados, excluindo quaisquer outliers\n",
    "- Máximo (Q4 ou 100º percentil): o ponto de dados mais alto no conjunto de dados, excluindo quaisquer outliers\n",
    "- Mediana (Q2 ou 50º percentil): o valor do meio no conjunto de dados\n",
    "- Primeiro quartil (Q1 ou 25º percentil): também conhecido como quartil inferior, é a mediana da metade inferior do conjunto de dados.\n",
    "- Terceiro quartil (Q3 ou 75º percentil): também conhecido como quartil superior, é a mediana da metade superior do conjunto de dados.\n",
    "\n",
    "Além dos valores mínimo e máximo usados para construir um boxplot, outro elemento importante que também pode ser empregado para obter um boxplot é a amplitude interquartil (IQR), a distância entre os quartis superior e inferior."
   ]
  },
  {
   "cell_type": "markdown",
   "id": "feef1209",
   "metadata": {},
   "source": [
    "# 00:20:30min"
   ]
  }
 ],
 "metadata": {
  "kernelspec": {
   "display_name": "Python 3.13 (Plotly)",
   "language": "python",
   "name": "python313"
  },
  "language_info": {
   "codemirror_mode": {
    "name": "ipython",
    "version": 3
   },
   "file_extension": ".py",
   "mimetype": "text/x-python",
   "name": "python",
   "nbconvert_exporter": "python",
   "pygments_lexer": "ipython3",
   "version": "3.13.3"
  }
 },
 "nbformat": 4,
 "nbformat_minor": 5
}
