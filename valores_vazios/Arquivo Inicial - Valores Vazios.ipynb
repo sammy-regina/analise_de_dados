{
 "cells": [
  {
   "cell_type": "markdown",
   "id": "35093c47",
   "metadata": {},
   "source": [
    "### Identificando valores vazios"
   ]
  },
  {
   "cell_type": "code",
   "execution_count": null,
   "id": "a33a1a5b",
   "metadata": {},
   "outputs": [],
   "source": [
    "# info\n",
    "\n",
    "\n",
    "# df.isna().any() ou .sum()\n"
   ]
  },
  {
   "cell_type": "markdown",
   "id": "957f299d",
   "metadata": {},
   "source": [
    "### Valores vazios não identificados como vazio"
   ]
  },
  {
   "cell_type": "code",
   "execution_count": null,
   "id": "d008b49a",
   "metadata": {},
   "outputs": [],
   "source": [
    "# identificar na hora de importar\n",
    "\n",
    "# identificar com replace\n"
   ]
  },
  {
   "cell_type": "markdown",
   "id": "dd3c0e91",
   "metadata": {},
   "source": [
    "### Removendo valores vazios"
   ]
  },
  {
   "cell_type": "code",
   "execution_count": null,
   "id": "5b04cda1",
   "metadata": {},
   "outputs": [],
   "source": [
    "# 0 -> exclui linhas, 1 -> exclui colunas\n"
   ]
  },
  {
   "cell_type": "markdown",
   "id": "9911fea3",
   "metadata": {},
   "source": [
    "### Tratando valores vazios"
   ]
  },
  {
   "cell_type": "markdown",
   "id": "49c73129",
   "metadata": {},
   "source": [
    "##### - Preenchendo com valor fixo"
   ]
  },
  {
   "cell_type": "code",
   "execution_count": null,
   "id": "ee8b111c",
   "metadata": {},
   "outputs": [],
   "source": []
  },
  {
   "cell_type": "markdown",
   "id": "4c75921e",
   "metadata": {},
   "source": [
    "##### - Preenchendo com anterior ou seguinte"
   ]
  },
  {
   "cell_type": "code",
   "execution_count": null,
   "id": "538791df",
   "metadata": {},
   "outputs": [],
   "source": []
  },
  {
   "cell_type": "markdown",
   "id": "80ebcdf6",
   "metadata": {},
   "source": [
    "##### - Interpolando"
   ]
  },
  {
   "cell_type": "code",
   "execution_count": null,
   "id": "58ae94df",
   "metadata": {},
   "outputs": [],
   "source": []
  },
  {
   "cell_type": "code",
   "execution_count": null,
   "id": "aa1a2018",
   "metadata": {},
   "outputs": [],
   "source": []
  }
 ],
 "metadata": {
  "kernelspec": {
   "display_name": "Python 3",
   "language": "python",
   "name": "python3"
  },
  "language_info": {
   "codemirror_mode": {
    "name": "ipython",
    "version": 3
   },
   "file_extension": ".py",
   "mimetype": "text/x-python",
   "name": "python",
   "nbconvert_exporter": "python",
   "pygments_lexer": "ipython3",
   "version": "3.8.8"
  }
 },
 "nbformat": 4,
 "nbformat_minor": 5
}
