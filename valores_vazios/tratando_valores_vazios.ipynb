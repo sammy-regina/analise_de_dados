{
 "cells": [
  {
   "cell_type": "markdown",
   "id": "86ee2d74",
   "metadata": {},
   "source": [
    "https://www.youtube.com/watch?v=rVJW-rgJUkY&list=PLpdAy0tYrnKx9CtTmgSdzHz9YQ-C5ZNI9&index=11"
   ]
  },
  {
   "cell_type": "markdown",
   "id": "2a6b7379",
   "metadata": {},
   "source": [
    "### Identificando valores vazios"
   ]
  },
  {
   "cell_type": "code",
   "execution_count": null,
   "id": "e2d0d4a6",
   "metadata": {},
   "outputs": [],
   "source": [
    "# info\n",
    "\n",
    "# def.isna().any() ou .sun()"
   ]
  },
  {
   "cell_type": "code",
   "execution_count": null,
   "id": "163155e1",
   "metadata": {},
   "outputs": [],
   "source": []
  }
 ],
 "metadata": {
  "kernelspec": {
   "display_name": "Python 3",
   "language": "python",
   "name": "python3"
  },
  "language_info": {
   "codemirror_mode": {
    "name": "ipython",
    "version": 3
   },
   "file_extension": ".py",
   "mimetype": "text/x-python",
   "name": "python",
   "nbconvert_exporter": "python",
   "pygments_lexer": "ipython3",
   "version": "3.13.3"
  }
 },
 "nbformat": 4,
 "nbformat_minor": 5
}
