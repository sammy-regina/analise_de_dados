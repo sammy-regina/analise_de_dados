{
 "cells": [
  {
   "cell_type": "code",
   "execution_count": null,
   "id": "4b8314e5",
   "metadata": {},
   "outputs": [
    {
     "name": "stdout",
     "output_type": "stream",
     "text": [
      "    Idade  Experiencia  Horas_Estudadas  Cafes_por_Dia  Nota_Prova\n",
      "0      56           16                9      17.894743          52\n",
      "1      46            3                8      15.044654          69\n",
      "2      32           17                1       1.585235          85\n",
      "3      25            7                8      14.601259          68\n",
      "4      38            3                8      15.655919          75\n",
      "5      56            1                3       6.750786          52\n",
      "6      36           29                1       1.672375          68\n",
      "7      40            5                8      15.138402          69\n",
      "8      28           21                3       5.741815          81\n",
      "9      28            9                3       6.460956          56\n",
      "10     41            3                1       0.650610          90\n",
      "11     53           21                5       8.980927          82\n",
      "12     57           28                7      14.127012          89\n",
      "13     41           17                9      16.750556          88\n",
      "14     20           25                7      15.945116          67\n",
      "15     39           11                9      17.846664          89\n",
      "16     19            1                8      15.093013          50\n",
      "17     41            9                2       3.182646          60\n",
      "18     47           29                1       1.516877          77\n",
      "19     55            3                7      13.430172          74\n",
      "20     19           13                7      11.908400          99\n",
      "21     38           15                8      17.263741          72\n",
      "22     50           14                5       9.984517          80\n",
      "23     29            7                3       5.972624          79\n",
      "24     39           13                8      16.817874          91\n",
      "25     42           22                6      10.945396          84\n",
      "26     44           27                3       5.241673          56\n",
      "27     59           24                1       2.457416          65\n",
      "28     45           29                3       5.935622          75\n",
      "29     33            7                5      10.344902          97\n",
      "30     32           20                3       5.919913          98\n",
      "31     20           15                1       1.758620          51\n",
      "32     54           12                5      11.433515          50\n",
      "33     24           17                7      15.065794          97\n",
      "34     38           14                7      11.501241          61\n",
      "35     26           20                9      19.480329          54\n",
      "36     56           23                3       8.158729          86\n",
      "37     35           25                7      15.231778          81\n",
      "38     21           24                1       1.785676          58\n",
      "39     42           27                4       7.310806          90\n",
      "40     31           27                4       8.727833          84\n",
      "41     26           27                5       9.380931          68\n",
      "42     43           12                7      14.356160          97\n",
      "43     19            8                7      13.978119          65\n",
      "44     37           28                4       9.218050          52\n",
      "45     45           14                7      13.610542          69\n",
      "46     24           12                3       5.557198          73\n",
      "47     25            0                6      12.378227          82\n",
      "48     52           24                2       5.933840          73\n",
      "49     31            6                9      18.080971          60\n",
      "                    Idade  Experiencia  Horas_Estudadas  Cafes_por_Dia  \\\n",
      "Idade            1.000000     0.133051        -0.073330      -0.052143   \n",
      "Experiencia      0.133051     1.000000        -0.346906      -0.299497   \n",
      "Horas_Estudadas -0.073330    -0.346906         1.000000       0.982843   \n",
      "Cafes_por_Dia   -0.052143    -0.299497         0.982843       1.000000   \n",
      "Nota_Prova       0.020442     0.084411         0.060022       0.045156   \n",
      "\n",
      "                 Nota_Prova  \n",
      "Idade              0.020442  \n",
      "Experiencia        0.084411  \n",
      "Horas_Estudadas    0.060022  \n",
      "Cafes_por_Dia      0.045156  \n",
      "Nota_Prova         1.000000  \n"
     ]
    }
   ],
   "source": [
    "import pandas as pd # biblioteca para manipulação de dados\n",
    "\n",
    "tabela = pd.read_csv(\"base_estudo.csv\") # lê o arquivo CSV e armazena em um DataFrame\n",
    "print(tabela) # exibe o DataFrame\n",
    "\n",
    "correlacao = tabela.corr() # calcula a correlação entre as colunas numéricas do DataFrame\n",
    "print(correlacao) # exibe a matriz de correlação"
   ]
  },
  {
   "cell_type": "code",
   "execution_count": 3,
   "id": "0b8976f5",
   "metadata": {},
   "outputs": [
    {
     "name": "stdout",
     "output_type": "stream",
     "text": [
      "^C\n",
      "Note: you may need to restart the kernel to use updated packages.\n"
     ]
    }
   ],
   "source": [
    "%pip install plotly_express"
   ]
  },
  {
   "cell_type": "code",
   "execution_count": 4,
   "id": "91cd4ff1",
   "metadata": {},
   "outputs": [
    {
     "name": "stdout",
     "output_type": "stream",
     "text": [
      "    Idade  Experiencia  Horas_Estudadas  Cafes_por_Dia  Nota_Prova\n",
      "0      56           16                9      17.894743          52\n",
      "1      46            3                8      15.044654          69\n",
      "2      32           17                1       1.585235          85\n",
      "3      25            7                8      14.601259          68\n",
      "4      38            3                8      15.655919          75\n",
      "5      56            1                3       6.750786          52\n",
      "6      36           29                1       1.672375          68\n",
      "7      40            5                8      15.138402          69\n",
      "8      28           21                3       5.741815          81\n",
      "9      28            9                3       6.460956          56\n",
      "10     41            3                1       0.650610          90\n",
      "11     53           21                5       8.980927          82\n",
      "12     57           28                7      14.127012          89\n",
      "13     41           17                9      16.750556          88\n",
      "14     20           25                7      15.945116          67\n",
      "15     39           11                9      17.846664          89\n",
      "16     19            1                8      15.093013          50\n",
      "17     41            9                2       3.182646          60\n",
      "18     47           29                1       1.516877          77\n",
      "19     55            3                7      13.430172          74\n",
      "20     19           13                7      11.908400          99\n",
      "21     38           15                8      17.263741          72\n",
      "22     50           14                5       9.984517          80\n",
      "23     29            7                3       5.972624          79\n",
      "24     39           13                8      16.817874          91\n",
      "25     42           22                6      10.945396          84\n",
      "26     44           27                3       5.241673          56\n",
      "27     59           24                1       2.457416          65\n",
      "28     45           29                3       5.935622          75\n",
      "29     33            7                5      10.344902          97\n",
      "30     32           20                3       5.919913          98\n",
      "31     20           15                1       1.758620          51\n",
      "32     54           12                5      11.433515          50\n",
      "33     24           17                7      15.065794          97\n",
      "34     38           14                7      11.501241          61\n",
      "35     26           20                9      19.480329          54\n",
      "36     56           23                3       8.158729          86\n",
      "37     35           25                7      15.231778          81\n",
      "38     21           24                1       1.785676          58\n",
      "39     42           27                4       7.310806          90\n",
      "40     31           27                4       8.727833          84\n",
      "41     26           27                5       9.380931          68\n",
      "42     43           12                7      14.356160          97\n",
      "43     19            8                7      13.978119          65\n",
      "44     37           28                4       9.218050          52\n",
      "45     45           14                7      13.610542          69\n",
      "46     24           12                3       5.557198          73\n",
      "47     25            0                6      12.378227          82\n",
      "48     52           24                2       5.933840          73\n",
      "49     31            6                9      18.080971          60\n",
      "                    Idade  Experiencia  Horas_Estudadas  Cafes_por_Dia  \\\n",
      "Idade            1.000000     0.133051        -0.073330      -0.052143   \n",
      "Experiencia      0.133051     1.000000        -0.346906      -0.299497   \n",
      "Horas_Estudadas -0.073330    -0.346906         1.000000       0.982843   \n",
      "Cafes_por_Dia   -0.052143    -0.299497         0.982843       1.000000   \n",
      "Nota_Prova       0.020442     0.084411         0.060022       0.045156   \n",
      "\n",
      "                 Nota_Prova  \n",
      "Idade              0.020442  \n",
      "Experiencia        0.084411  \n",
      "Horas_Estudadas    0.060022  \n",
      "Cafes_por_Dia      0.045156  \n",
      "Nota_Prova         1.000000  \n"
     ]
    },
    {
     "data": {
      "application/vnd.plotly.v1+json": {
       "config": {
        "plotlyServerURL": "https://plot.ly"
       },
       "data": [
        {
         "coloraxis": "coloraxis",
         "hovertemplate": "x: %{x}<br>y: %{y}<br>color: %{z}<extra></extra>",
         "name": "0",
         "texttemplate": "%{z}",
         "type": "heatmap",
         "x": [
          "Idade",
          "Experiencia",
          "Horas_Estudadas",
          "Cafes_por_Dia",
          "Nota_Prova"
         ],
         "xaxis": "x",
         "y": [
          "Idade",
          "Experiencia",
          "Horas_Estudadas",
          "Cafes_por_Dia",
          "Nota_Prova"
         ],
         "yaxis": "y",
         "z": {
          "bdata": "AAAAAAAA8D/UTaBOzgfBP02n0gHHxbK/B3HCu4Wyqr8sWzDS3O6UP9RNoE7OB8E/AAAAAAAA8D8CDPvCszPWv3ZY6zv2KtO/dan4mfybtT9Np9IBx8WyvwIM+8KzM9a/AAAAAAAA8D+ruNTccnPvP1T6/9smu64/B3HCu4Wyqr92WOs79irTv6u41Nxyc+8/AAAAAAAA8D/h/2PSsR6nPyxbMNLc7pQ/dan4mfybtT9U+v/bJruuP+H/Y9KxHqc/AAAAAAAA8D8=",
          "dtype": "f8",
          "shape": "5, 5"
         }
        }
       ],
       "layout": {
        "coloraxis": {
         "colorscale": [
          [
           0,
           "rgb(5,48,97)"
          ],
          [
           0.1,
           "rgb(33,102,172)"
          ],
          [
           0.2,
           "rgb(67,147,195)"
          ],
          [
           0.3,
           "rgb(146,197,222)"
          ],
          [
           0.4,
           "rgb(209,229,240)"
          ],
          [
           0.5,
           "rgb(247,247,247)"
          ],
          [
           0.6,
           "rgb(253,219,199)"
          ],
          [
           0.7,
           "rgb(244,165,130)"
          ],
          [
           0.8,
           "rgb(214,96,77)"
          ],
          [
           0.9,
           "rgb(178,24,43)"
          ],
          [
           1,
           "rgb(103,0,31)"
          ]
         ]
        },
        "template": {
         "data": {
          "bar": [
           {
            "error_x": {
             "color": "#2a3f5f"
            },
            "error_y": {
             "color": "#2a3f5f"
            },
            "marker": {
             "line": {
              "color": "#E5ECF6",
              "width": 0.5
             },
             "pattern": {
              "fillmode": "overlay",
              "size": 10,
              "solidity": 0.2
             }
            },
            "type": "bar"
           }
          ],
          "barpolar": [
           {
            "marker": {
             "line": {
              "color": "#E5ECF6",
              "width": 0.5
             },
             "pattern": {
              "fillmode": "overlay",
              "size": 10,
              "solidity": 0.2
             }
            },
            "type": "barpolar"
           }
          ],
          "carpet": [
           {
            "aaxis": {
             "endlinecolor": "#2a3f5f",
             "gridcolor": "white",
             "linecolor": "white",
             "minorgridcolor": "white",
             "startlinecolor": "#2a3f5f"
            },
            "baxis": {
             "endlinecolor": "#2a3f5f",
             "gridcolor": "white",
             "linecolor": "white",
             "minorgridcolor": "white",
             "startlinecolor": "#2a3f5f"
            },
            "type": "carpet"
           }
          ],
          "choropleth": [
           {
            "colorbar": {
             "outlinewidth": 0,
             "ticks": ""
            },
            "type": "choropleth"
           }
          ],
          "contour": [
           {
            "colorbar": {
             "outlinewidth": 0,
             "ticks": ""
            },
            "colorscale": [
             [
              0,
              "#0d0887"
             ],
             [
              0.1111111111111111,
              "#46039f"
             ],
             [
              0.2222222222222222,
              "#7201a8"
             ],
             [
              0.3333333333333333,
              "#9c179e"
             ],
             [
              0.4444444444444444,
              "#bd3786"
             ],
             [
              0.5555555555555556,
              "#d8576b"
             ],
             [
              0.6666666666666666,
              "#ed7953"
             ],
             [
              0.7777777777777778,
              "#fb9f3a"
             ],
             [
              0.8888888888888888,
              "#fdca26"
             ],
             [
              1,
              "#f0f921"
             ]
            ],
            "type": "contour"
           }
          ],
          "contourcarpet": [
           {
            "colorbar": {
             "outlinewidth": 0,
             "ticks": ""
            },
            "type": "contourcarpet"
           }
          ],
          "heatmap": [
           {
            "colorbar": {
             "outlinewidth": 0,
             "ticks": ""
            },
            "colorscale": [
             [
              0,
              "#0d0887"
             ],
             [
              0.1111111111111111,
              "#46039f"
             ],
             [
              0.2222222222222222,
              "#7201a8"
             ],
             [
              0.3333333333333333,
              "#9c179e"
             ],
             [
              0.4444444444444444,
              "#bd3786"
             ],
             [
              0.5555555555555556,
              "#d8576b"
             ],
             [
              0.6666666666666666,
              "#ed7953"
             ],
             [
              0.7777777777777778,
              "#fb9f3a"
             ],
             [
              0.8888888888888888,
              "#fdca26"
             ],
             [
              1,
              "#f0f921"
             ]
            ],
            "type": "heatmap"
           }
          ],
          "histogram": [
           {
            "marker": {
             "pattern": {
              "fillmode": "overlay",
              "size": 10,
              "solidity": 0.2
             }
            },
            "type": "histogram"
           }
          ],
          "histogram2d": [
           {
            "colorbar": {
             "outlinewidth": 0,
             "ticks": ""
            },
            "colorscale": [
             [
              0,
              "#0d0887"
             ],
             [
              0.1111111111111111,
              "#46039f"
             ],
             [
              0.2222222222222222,
              "#7201a8"
             ],
             [
              0.3333333333333333,
              "#9c179e"
             ],
             [
              0.4444444444444444,
              "#bd3786"
             ],
             [
              0.5555555555555556,
              "#d8576b"
             ],
             [
              0.6666666666666666,
              "#ed7953"
             ],
             [
              0.7777777777777778,
              "#fb9f3a"
             ],
             [
              0.8888888888888888,
              "#fdca26"
             ],
             [
              1,
              "#f0f921"
             ]
            ],
            "type": "histogram2d"
           }
          ],
          "histogram2dcontour": [
           {
            "colorbar": {
             "outlinewidth": 0,
             "ticks": ""
            },
            "colorscale": [
             [
              0,
              "#0d0887"
             ],
             [
              0.1111111111111111,
              "#46039f"
             ],
             [
              0.2222222222222222,
              "#7201a8"
             ],
             [
              0.3333333333333333,
              "#9c179e"
             ],
             [
              0.4444444444444444,
              "#bd3786"
             ],
             [
              0.5555555555555556,
              "#d8576b"
             ],
             [
              0.6666666666666666,
              "#ed7953"
             ],
             [
              0.7777777777777778,
              "#fb9f3a"
             ],
             [
              0.8888888888888888,
              "#fdca26"
             ],
             [
              1,
              "#f0f921"
             ]
            ],
            "type": "histogram2dcontour"
           }
          ],
          "mesh3d": [
           {
            "colorbar": {
             "outlinewidth": 0,
             "ticks": ""
            },
            "type": "mesh3d"
           }
          ],
          "parcoords": [
           {
            "line": {
             "colorbar": {
              "outlinewidth": 0,
              "ticks": ""
             }
            },
            "type": "parcoords"
           }
          ],
          "pie": [
           {
            "automargin": true,
            "type": "pie"
           }
          ],
          "scatter": [
           {
            "fillpattern": {
             "fillmode": "overlay",
             "size": 10,
             "solidity": 0.2
            },
            "type": "scatter"
           }
          ],
          "scatter3d": [
           {
            "line": {
             "colorbar": {
              "outlinewidth": 0,
              "ticks": ""
             }
            },
            "marker": {
             "colorbar": {
              "outlinewidth": 0,
              "ticks": ""
             }
            },
            "type": "scatter3d"
           }
          ],
          "scattercarpet": [
           {
            "marker": {
             "colorbar": {
              "outlinewidth": 0,
              "ticks": ""
             }
            },
            "type": "scattercarpet"
           }
          ],
          "scattergeo": [
           {
            "marker": {
             "colorbar": {
              "outlinewidth": 0,
              "ticks": ""
             }
            },
            "type": "scattergeo"
           }
          ],
          "scattergl": [
           {
            "marker": {
             "colorbar": {
              "outlinewidth": 0,
              "ticks": ""
             }
            },
            "type": "scattergl"
           }
          ],
          "scattermap": [
           {
            "marker": {
             "colorbar": {
              "outlinewidth": 0,
              "ticks": ""
             }
            },
            "type": "scattermap"
           }
          ],
          "scattermapbox": [
           {
            "marker": {
             "colorbar": {
              "outlinewidth": 0,
              "ticks": ""
             }
            },
            "type": "scattermapbox"
           }
          ],
          "scatterpolar": [
           {
            "marker": {
             "colorbar": {
              "outlinewidth": 0,
              "ticks": ""
             }
            },
            "type": "scatterpolar"
           }
          ],
          "scatterpolargl": [
           {
            "marker": {
             "colorbar": {
              "outlinewidth": 0,
              "ticks": ""
             }
            },
            "type": "scatterpolargl"
           }
          ],
          "scatterternary": [
           {
            "marker": {
             "colorbar": {
              "outlinewidth": 0,
              "ticks": ""
             }
            },
            "type": "scatterternary"
           }
          ],
          "surface": [
           {
            "colorbar": {
             "outlinewidth": 0,
             "ticks": ""
            },
            "colorscale": [
             [
              0,
              "#0d0887"
             ],
             [
              0.1111111111111111,
              "#46039f"
             ],
             [
              0.2222222222222222,
              "#7201a8"
             ],
             [
              0.3333333333333333,
              "#9c179e"
             ],
             [
              0.4444444444444444,
              "#bd3786"
             ],
             [
              0.5555555555555556,
              "#d8576b"
             ],
             [
              0.6666666666666666,
              "#ed7953"
             ],
             [
              0.7777777777777778,
              "#fb9f3a"
             ],
             [
              0.8888888888888888,
              "#fdca26"
             ],
             [
              1,
              "#f0f921"
             ]
            ],
            "type": "surface"
           }
          ],
          "table": [
           {
            "cells": {
             "fill": {
              "color": "#EBF0F8"
             },
             "line": {
              "color": "white"
             }
            },
            "header": {
             "fill": {
              "color": "#C8D4E3"
             },
             "line": {
              "color": "white"
             }
            },
            "type": "table"
           }
          ]
         },
         "layout": {
          "annotationdefaults": {
           "arrowcolor": "#2a3f5f",
           "arrowhead": 0,
           "arrowwidth": 1
          },
          "autotypenumbers": "strict",
          "coloraxis": {
           "colorbar": {
            "outlinewidth": 0,
            "ticks": ""
           }
          },
          "colorscale": {
           "diverging": [
            [
             0,
             "#8e0152"
            ],
            [
             0.1,
             "#c51b7d"
            ],
            [
             0.2,
             "#de77ae"
            ],
            [
             0.3,
             "#f1b6da"
            ],
            [
             0.4,
             "#fde0ef"
            ],
            [
             0.5,
             "#f7f7f7"
            ],
            [
             0.6,
             "#e6f5d0"
            ],
            [
             0.7,
             "#b8e186"
            ],
            [
             0.8,
             "#7fbc41"
            ],
            [
             0.9,
             "#4d9221"
            ],
            [
             1,
             "#276419"
            ]
           ],
           "sequential": [
            [
             0,
             "#0d0887"
            ],
            [
             0.1111111111111111,
             "#46039f"
            ],
            [
             0.2222222222222222,
             "#7201a8"
            ],
            [
             0.3333333333333333,
             "#9c179e"
            ],
            [
             0.4444444444444444,
             "#bd3786"
            ],
            [
             0.5555555555555556,
             "#d8576b"
            ],
            [
             0.6666666666666666,
             "#ed7953"
            ],
            [
             0.7777777777777778,
             "#fb9f3a"
            ],
            [
             0.8888888888888888,
             "#fdca26"
            ],
            [
             1,
             "#f0f921"
            ]
           ],
           "sequentialminus": [
            [
             0,
             "#0d0887"
            ],
            [
             0.1111111111111111,
             "#46039f"
            ],
            [
             0.2222222222222222,
             "#7201a8"
            ],
            [
             0.3333333333333333,
             "#9c179e"
            ],
            [
             0.4444444444444444,
             "#bd3786"
            ],
            [
             0.5555555555555556,
             "#d8576b"
            ],
            [
             0.6666666666666666,
             "#ed7953"
            ],
            [
             0.7777777777777778,
             "#fb9f3a"
            ],
            [
             0.8888888888888888,
             "#fdca26"
            ],
            [
             1,
             "#f0f921"
            ]
           ]
          },
          "colorway": [
           "#636efa",
           "#EF553B",
           "#00cc96",
           "#ab63fa",
           "#FFA15A",
           "#19d3f3",
           "#FF6692",
           "#B6E880",
           "#FF97FF",
           "#FECB52"
          ],
          "font": {
           "color": "#2a3f5f"
          },
          "geo": {
           "bgcolor": "white",
           "lakecolor": "white",
           "landcolor": "#E5ECF6",
           "showlakes": true,
           "showland": true,
           "subunitcolor": "white"
          },
          "hoverlabel": {
           "align": "left"
          },
          "hovermode": "closest",
          "mapbox": {
           "style": "light"
          },
          "paper_bgcolor": "white",
          "plot_bgcolor": "#E5ECF6",
          "polar": {
           "angularaxis": {
            "gridcolor": "white",
            "linecolor": "white",
            "ticks": ""
           },
           "bgcolor": "#E5ECF6",
           "radialaxis": {
            "gridcolor": "white",
            "linecolor": "white",
            "ticks": ""
           }
          },
          "scene": {
           "xaxis": {
            "backgroundcolor": "#E5ECF6",
            "gridcolor": "white",
            "gridwidth": 2,
            "linecolor": "white",
            "showbackground": true,
            "ticks": "",
            "zerolinecolor": "white"
           },
           "yaxis": {
            "backgroundcolor": "#E5ECF6",
            "gridcolor": "white",
            "gridwidth": 2,
            "linecolor": "white",
            "showbackground": true,
            "ticks": "",
            "zerolinecolor": "white"
           },
           "zaxis": {
            "backgroundcolor": "#E5ECF6",
            "gridcolor": "white",
            "gridwidth": 2,
            "linecolor": "white",
            "showbackground": true,
            "ticks": "",
            "zerolinecolor": "white"
           }
          },
          "shapedefaults": {
           "line": {
            "color": "#2a3f5f"
           }
          },
          "ternary": {
           "aaxis": {
            "gridcolor": "white",
            "linecolor": "white",
            "ticks": ""
           },
           "baxis": {
            "gridcolor": "white",
            "linecolor": "white",
            "ticks": ""
           },
           "bgcolor": "#E5ECF6",
           "caxis": {
            "gridcolor": "white",
            "linecolor": "white",
            "ticks": ""
           }
          },
          "title": {
           "x": 0.05
          },
          "xaxis": {
           "automargin": true,
           "gridcolor": "white",
           "linecolor": "white",
           "ticks": "",
           "title": {
            "standoff": 15
           },
           "zerolinecolor": "white",
           "zerolinewidth": 2
          },
          "yaxis": {
           "automargin": true,
           "gridcolor": "white",
           "linecolor": "white",
           "ticks": "",
           "title": {
            "standoff": 15
           },
           "zerolinecolor": "white",
           "zerolinewidth": 2
          }
         }
        },
        "title": {
         "text": "Matriz de Correlação"
        },
        "xaxis": {
         "anchor": "y",
         "constrain": "domain",
         "domain": [
          0,
          1
         ],
         "scaleanchor": "y"
        },
        "yaxis": {
         "anchor": "x",
         "autorange": "reversed",
         "constrain": "domain",
         "domain": [
          0,
          1
         ]
        }
       }
      }
     },
     "metadata": {},
     "output_type": "display_data"
    }
   ],
   "source": [
    "import pandas as pd # biblioteca para manipulação de dados\n",
    "import plotly.express as px # biblioteca para visualização de dados\n",
    "\n",
    "tabela = pd.read_csv(\"base_estudo.csv\") # lê o arquivo CSV e armazena em um DataFrame\n",
    "print(tabela) # exibe o DataFrame\n",
    "\n",
    "correlacao = tabela.corr() # calcula a correlação entre as colunas numéricas do DataFrame\n",
    "print(correlacao) # exibe a matriz de correlação\n",
    "\n",
    "grafico = px.imshow(correlacao, text_auto=True, color_continuous_scale=\"RdBu_r\", title=\"Matriz de Correlação\") # cria um gráfico de mapa de calor da matriz de correlação\n",
    "grafico.show() # exibe o gráfico"
   ]
  }
 ],
 "metadata": {
  "kernelspec": {
   "display_name": "Python 3",
   "language": "python",
   "name": "python3"
  },
  "language_info": {
   "codemirror_mode": {
    "name": "ipython",
    "version": 3
   },
   "file_extension": ".py",
   "mimetype": "text/x-python",
   "name": "python",
   "nbconvert_exporter": "python",
   "pygments_lexer": "ipython3",
   "version": "3.13.3"
  }
 },
 "nbformat": 4,
 "nbformat_minor": 5
}
