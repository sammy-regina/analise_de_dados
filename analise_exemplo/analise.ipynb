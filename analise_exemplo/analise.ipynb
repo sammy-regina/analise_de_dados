{
 "cells": [
  {
   "cell_type": "markdown",
   "id": "b40aa944",
   "metadata": {},
   "source": [
    "## Análise de Dados Titanic"
   ]
  },
  {
   "cell_type": "markdown",
   "id": "61ea1315",
   "metadata": {},
   "source": [
    "### Dicionário de Dados Tabela Titanic\n",
    "\n",
    "- **PassagerId**: Id do passageiro\n",
    "- **Survived**: sobreviveu (0 = não, 1 = sim)\n",
    "- **Pclass**: Classe do passageiro (1 = primeira, 2 = segunda, 3 = terceira)\n",
    "- **Name**: Nome do passageiro\n",
    "- **Sex**: Sexo do passageiro\n",
    "- **Age**: Idade do Passageiro\n",
    "- **Sib Sp**: Número de irmãos/esposa(o) a bordo com o passageiro\n",
    "- **Parch**: Número de pais/filhos a bordo com o passageiro\n",
    "- **Ticket**: Número da passagem\n",
    "- **Fare**: Preço da passagem\n",
    "- **Cabin**: cabine\n",
    "- **Embarked**: Local em que o passageiro embarcou:\n",
    "    - *C* = Cherbourg\n",
    "    - *Q* = Queenstown\n",
    "    - *S* = Southampton\n"
   ]
  },
  {
   "cell_type": "markdown",
   "id": "ff6b0a49",
   "metadata": {},
   "source": [
    "## Tratamento dos Dados e inspeção inicial"
   ]
  },
  {
   "cell_type": "markdown",
   "id": "65ed0c0f",
   "metadata": {},
   "source": [
    "Aqui abrimos o arquivo de dados com o read para expor os primeiros 10 registros usando o head(10)"
   ]
  },
  {
   "cell_type": "code",
   "execution_count": 1,
   "id": "7154d586",
   "metadata": {},
   "outputs": [
    {
     "data": {
      "text/html": [
       "<div>\n",
       "<style scoped>\n",
       "    .dataframe tbody tr th:only-of-type {\n",
       "        vertical-align: middle;\n",
       "    }\n",
       "\n",
       "    .dataframe tbody tr th {\n",
       "        vertical-align: top;\n",
       "    }\n",
       "\n",
       "    .dataframe thead th {\n",
       "        text-align: right;\n",
       "    }\n",
       "</style>\n",
       "<table border=\"1\" class=\"dataframe\">\n",
       "  <thead>\n",
       "    <tr style=\"text-align: right;\">\n",
       "      <th></th>\n",
       "      <th>PassengerId</th>\n",
       "      <th>Survived</th>\n",
       "      <th>Pclass</th>\n",
       "      <th>Name</th>\n",
       "      <th>Sex</th>\n",
       "      <th>Age</th>\n",
       "      <th>SibSp</th>\n",
       "      <th>Parch</th>\n",
       "      <th>Ticket</th>\n",
       "      <th>Fare</th>\n",
       "      <th>Cabin</th>\n",
       "      <th>Embarked</th>\n",
       "    </tr>\n",
       "  </thead>\n",
       "  <tbody>\n",
       "    <tr>\n",
       "      <th>0</th>\n",
       "      <td>1</td>\n",
       "      <td>0</td>\n",
       "      <td>3</td>\n",
       "      <td>Braund, Mr. Owen Harris</td>\n",
       "      <td>male</td>\n",
       "      <td>22.0</td>\n",
       "      <td>1</td>\n",
       "      <td>0</td>\n",
       "      <td>A/5 21171</td>\n",
       "      <td>7.2500</td>\n",
       "      <td>NaN</td>\n",
       "      <td>S</td>\n",
       "    </tr>\n",
       "    <tr>\n",
       "      <th>1</th>\n",
       "      <td>2</td>\n",
       "      <td>1</td>\n",
       "      <td>1</td>\n",
       "      <td>Cumings, Mrs. John Bradley (Florence Briggs Th...</td>\n",
       "      <td>female</td>\n",
       "      <td>38.0</td>\n",
       "      <td>1</td>\n",
       "      <td>0</td>\n",
       "      <td>PC 17599</td>\n",
       "      <td>71.2833</td>\n",
       "      <td>C85</td>\n",
       "      <td>C</td>\n",
       "    </tr>\n",
       "    <tr>\n",
       "      <th>2</th>\n",
       "      <td>3</td>\n",
       "      <td>1</td>\n",
       "      <td>3</td>\n",
       "      <td>Heikkinen, Miss. Laina</td>\n",
       "      <td>female</td>\n",
       "      <td>26.0</td>\n",
       "      <td>0</td>\n",
       "      <td>0</td>\n",
       "      <td>STON/O2. 3101282</td>\n",
       "      <td>7.9250</td>\n",
       "      <td>NaN</td>\n",
       "      <td>S</td>\n",
       "    </tr>\n",
       "    <tr>\n",
       "      <th>3</th>\n",
       "      <td>4</td>\n",
       "      <td>1</td>\n",
       "      <td>1</td>\n",
       "      <td>Futrelle, Mrs. Jacques Heath (Lily May Peel)</td>\n",
       "      <td>female</td>\n",
       "      <td>35.0</td>\n",
       "      <td>1</td>\n",
       "      <td>0</td>\n",
       "      <td>113803</td>\n",
       "      <td>53.1000</td>\n",
       "      <td>C123</td>\n",
       "      <td>S</td>\n",
       "    </tr>\n",
       "    <tr>\n",
       "      <th>4</th>\n",
       "      <td>5</td>\n",
       "      <td>0</td>\n",
       "      <td>3</td>\n",
       "      <td>Allen, Mr. William Henry</td>\n",
       "      <td>male</td>\n",
       "      <td>35.0</td>\n",
       "      <td>0</td>\n",
       "      <td>0</td>\n",
       "      <td>373450</td>\n",
       "      <td>8.0500</td>\n",
       "      <td>NaN</td>\n",
       "      <td>S</td>\n",
       "    </tr>\n",
       "    <tr>\n",
       "      <th>5</th>\n",
       "      <td>6</td>\n",
       "      <td>0</td>\n",
       "      <td>3</td>\n",
       "      <td>Moran, Mr. James</td>\n",
       "      <td>male</td>\n",
       "      <td>NaN</td>\n",
       "      <td>0</td>\n",
       "      <td>0</td>\n",
       "      <td>330877</td>\n",
       "      <td>8.4583</td>\n",
       "      <td>NaN</td>\n",
       "      <td>Q</td>\n",
       "    </tr>\n",
       "    <tr>\n",
       "      <th>6</th>\n",
       "      <td>7</td>\n",
       "      <td>0</td>\n",
       "      <td>1</td>\n",
       "      <td>McCarthy, Mr. Timothy J</td>\n",
       "      <td>male</td>\n",
       "      <td>54.0</td>\n",
       "      <td>0</td>\n",
       "      <td>0</td>\n",
       "      <td>17463</td>\n",
       "      <td>51.8625</td>\n",
       "      <td>E46</td>\n",
       "      <td>S</td>\n",
       "    </tr>\n",
       "    <tr>\n",
       "      <th>7</th>\n",
       "      <td>8</td>\n",
       "      <td>0</td>\n",
       "      <td>3</td>\n",
       "      <td>Palsson, Master. Gosta Leonard</td>\n",
       "      <td>male</td>\n",
       "      <td>2.0</td>\n",
       "      <td>3</td>\n",
       "      <td>1</td>\n",
       "      <td>349909</td>\n",
       "      <td>21.0750</td>\n",
       "      <td>NaN</td>\n",
       "      <td>S</td>\n",
       "    </tr>\n",
       "    <tr>\n",
       "      <th>8</th>\n",
       "      <td>9</td>\n",
       "      <td>1</td>\n",
       "      <td>3</td>\n",
       "      <td>Johnson, Mrs. Oscar W (Elisabeth Vilhelmina Berg)</td>\n",
       "      <td>female</td>\n",
       "      <td>27.0</td>\n",
       "      <td>0</td>\n",
       "      <td>2</td>\n",
       "      <td>347742</td>\n",
       "      <td>11.1333</td>\n",
       "      <td>NaN</td>\n",
       "      <td>S</td>\n",
       "    </tr>\n",
       "    <tr>\n",
       "      <th>9</th>\n",
       "      <td>10</td>\n",
       "      <td>1</td>\n",
       "      <td>2</td>\n",
       "      <td>Nasser, Mrs. Nicholas (Adele Achem)</td>\n",
       "      <td>female</td>\n",
       "      <td>14.0</td>\n",
       "      <td>1</td>\n",
       "      <td>0</td>\n",
       "      <td>237736</td>\n",
       "      <td>30.0708</td>\n",
       "      <td>NaN</td>\n",
       "      <td>C</td>\n",
       "    </tr>\n",
       "  </tbody>\n",
       "</table>\n",
       "</div>"
      ],
      "text/plain": [
       "   PassengerId  Survived  Pclass  \\\n",
       "0            1         0       3   \n",
       "1            2         1       1   \n",
       "2            3         1       3   \n",
       "3            4         1       1   \n",
       "4            5         0       3   \n",
       "5            6         0       3   \n",
       "6            7         0       1   \n",
       "7            8         0       3   \n",
       "8            9         1       3   \n",
       "9           10         1       2   \n",
       "\n",
       "                                                Name     Sex   Age  SibSp  \\\n",
       "0                            Braund, Mr. Owen Harris    male  22.0      1   \n",
       "1  Cumings, Mrs. John Bradley (Florence Briggs Th...  female  38.0      1   \n",
       "2                             Heikkinen, Miss. Laina  female  26.0      0   \n",
       "3       Futrelle, Mrs. Jacques Heath (Lily May Peel)  female  35.0      1   \n",
       "4                           Allen, Mr. William Henry    male  35.0      0   \n",
       "5                                   Moran, Mr. James    male   NaN      0   \n",
       "6                            McCarthy, Mr. Timothy J    male  54.0      0   \n",
       "7                     Palsson, Master. Gosta Leonard    male   2.0      3   \n",
       "8  Johnson, Mrs. Oscar W (Elisabeth Vilhelmina Berg)  female  27.0      0   \n",
       "9                Nasser, Mrs. Nicholas (Adele Achem)  female  14.0      1   \n",
       "\n",
       "   Parch            Ticket     Fare Cabin Embarked  \n",
       "0      0         A/5 21171   7.2500   NaN        S  \n",
       "1      0          PC 17599  71.2833   C85        C  \n",
       "2      0  STON/O2. 3101282   7.9250   NaN        S  \n",
       "3      0            113803  53.1000  C123        S  \n",
       "4      0            373450   8.0500   NaN        S  \n",
       "5      0            330877   8.4583   NaN        Q  \n",
       "6      0             17463  51.8625   E46        S  \n",
       "7      1            349909  21.0750   NaN        S  \n",
       "8      2            347742  11.1333   NaN        S  \n",
       "9      0            237736  30.0708   NaN        C  "
      ]
     },
     "execution_count": 1,
     "metadata": {},
     "output_type": "execute_result"
    }
   ],
   "source": [
    "import pandas as pd # fazendo a importação da biblioteca pandas usada para manipulação de dados \n",
    "\n",
    "titanic_df = pd.read_csv(\"titanic.csv\") # read lê o arquivo csv e armazenando na variável titanic_df\n",
    "\n",
    "titanic_df.head(10) # exibe as 10 primeiras linhas do DataFrame"
   ]
  },
  {
   "cell_type": "markdown",
   "id": "dacb64c9",
   "metadata": {},
   "source": [
    "Aqui descobrimos os tipos de variaveis que estão contidos no conjunto de dados usando o método .info() e as colunas com dados nulos"
   ]
  },
  {
   "cell_type": "code",
   "execution_count": 2,
   "id": "8cb2aabc",
   "metadata": {},
   "outputs": [
    {
     "name": "stdout",
     "output_type": "stream",
     "text": [
      "<class 'pandas.core.frame.DataFrame'>\n",
      "RangeIndex: 891 entries, 0 to 890\n",
      "Data columns (total 12 columns):\n",
      " #   Column       Non-Null Count  Dtype  \n",
      "---  ------       --------------  -----  \n",
      " 0   PassengerId  891 non-null    int64  \n",
      " 1   Survived     891 non-null    int64  \n",
      " 2   Pclass       891 non-null    int64  \n",
      " 3   Name         891 non-null    object \n",
      " 4   Sex          891 non-null    object \n",
      " 5   Age          714 non-null    float64\n",
      " 6   SibSp        891 non-null    int64  \n",
      " 7   Parch        891 non-null    int64  \n",
      " 8   Ticket       891 non-null    object \n",
      " 9   Fare         891 non-null    float64\n",
      " 10  Cabin        204 non-null    object \n",
      " 11  Embarked     889 non-null    object \n",
      "dtypes: float64(2), int64(5), object(5)\n",
      "memory usage: 83.7+ KB\n"
     ]
    }
   ],
   "source": [
    "titanic_df.info() # o método .info() serve para obter um resumo rápido. Isso te diz o tipo de dado de cada coluna (numérico, objeto, etc.), e o mais importante, quantos valores não-nulos existem"
   ]
  },
  {
   "cell_type": "markdown",
   "id": "068d03e8",
   "metadata": {},
   "source": [
    "verifica o total e a proporção de nulos no DataFrame"
   ]
  },
  {
   "cell_type": "code",
   "execution_count": 3,
   "id": "ce6f35fb",
   "metadata": {},
   "outputs": [
    {
     "data": {
      "text/html": [
       "<div>\n",
       "<style scoped>\n",
       "    .dataframe tbody tr th:only-of-type {\n",
       "        vertical-align: middle;\n",
       "    }\n",
       "\n",
       "    .dataframe tbody tr th {\n",
       "        vertical-align: top;\n",
       "    }\n",
       "\n",
       "    .dataframe thead th {\n",
       "        text-align: right;\n",
       "    }\n",
       "</style>\n",
       "<table border=\"1\" class=\"dataframe\">\n",
       "  <thead>\n",
       "    <tr style=\"text-align: right;\">\n",
       "      <th></th>\n",
       "      <th>Count</th>\n",
       "      <th>Proportion</th>\n",
       "    </tr>\n",
       "  </thead>\n",
       "  <tbody>\n",
       "    <tr>\n",
       "      <th>PassengerId</th>\n",
       "      <td>0</td>\n",
       "      <td>0.000000</td>\n",
       "    </tr>\n",
       "    <tr>\n",
       "      <th>Survived</th>\n",
       "      <td>0</td>\n",
       "      <td>0.000000</td>\n",
       "    </tr>\n",
       "    <tr>\n",
       "      <th>Pclass</th>\n",
       "      <td>0</td>\n",
       "      <td>0.000000</td>\n",
       "    </tr>\n",
       "    <tr>\n",
       "      <th>Name</th>\n",
       "      <td>0</td>\n",
       "      <td>0.000000</td>\n",
       "    </tr>\n",
       "    <tr>\n",
       "      <th>Sex</th>\n",
       "      <td>0</td>\n",
       "      <td>0.000000</td>\n",
       "    </tr>\n",
       "    <tr>\n",
       "      <th>Age</th>\n",
       "      <td>177</td>\n",
       "      <td>0.198653</td>\n",
       "    </tr>\n",
       "    <tr>\n",
       "      <th>SibSp</th>\n",
       "      <td>0</td>\n",
       "      <td>0.000000</td>\n",
       "    </tr>\n",
       "    <tr>\n",
       "      <th>Parch</th>\n",
       "      <td>0</td>\n",
       "      <td>0.000000</td>\n",
       "    </tr>\n",
       "    <tr>\n",
       "      <th>Ticket</th>\n",
       "      <td>0</td>\n",
       "      <td>0.000000</td>\n",
       "    </tr>\n",
       "    <tr>\n",
       "      <th>Fare</th>\n",
       "      <td>0</td>\n",
       "      <td>0.000000</td>\n",
       "    </tr>\n",
       "    <tr>\n",
       "      <th>Cabin</th>\n",
       "      <td>687</td>\n",
       "      <td>0.771044</td>\n",
       "    </tr>\n",
       "    <tr>\n",
       "      <th>Embarked</th>\n",
       "      <td>2</td>\n",
       "      <td>0.002245</td>\n",
       "    </tr>\n",
       "  </tbody>\n",
       "</table>\n",
       "</div>"
      ],
      "text/plain": [
       "             Count  Proportion\n",
       "PassengerId      0    0.000000\n",
       "Survived         0    0.000000\n",
       "Pclass           0    0.000000\n",
       "Name             0    0.000000\n",
       "Sex              0    0.000000\n",
       "Age            177    0.198653\n",
       "SibSp            0    0.000000\n",
       "Parch            0    0.000000\n",
       "Ticket           0    0.000000\n",
       "Fare             0    0.000000\n",
       "Cabin          687    0.771044\n",
       "Embarked         2    0.002245"
      ]
     },
     "execution_count": 3,
     "metadata": {},
     "output_type": "execute_result"
    }
   ],
   "source": [
    "titanic_df.isnull() # isnull verifica valores nulos no DataFrame\n",
    "titanic_df.isnull().sum()/len(titanic_df) # sun soma a quantidade de valores nulos por coluna e divide pelo total de linhas do DataFrame    \n",
    "\n",
    "pd.DataFrame(zip(titanic_df.isnull().sum(),titanic_df.isnull().sum()/len(titanic_df)), columns=['Count', 'Proportion'], index=titanic_df.columns) # zip combina os dois resultados em um único DataFrame com colunas 'Count' e 'Proportion', onde 'Count' é a contagem de valores nulos e 'Proportion' é a proporção de valores nulos em relação ao total de linhas do DataFrame."
   ]
  },
  {
   "cell_type": "markdown",
   "id": "fdbb99e4",
   "metadata": {},
   "source": [
    "Tomar uma decisão sobre cada coluna"
   ]
  },
  {
   "cell_type": "markdown",
   "id": "390374d0",
   "metadata": {},
   "source": [
    "Cabin: Esta coluna tem muitos valores ausentes. É difícil preenchê-la de forma significativa. O melhor é descartá-la da análise."
   ]
  },
  {
   "cell_type": "code",
   "execution_count": 4,
   "id": "85fa1253",
   "metadata": {},
   "outputs": [],
   "source": [
    "# Remove a coluna 'Cabin' do DataFrame\n",
    "titanic_df.drop('Cabin', axis=1, inplace=True) # axis=1 indica que estamos removendo uma coluna (não uma linha), inplace=True significa que a alteração é feita diretamente no DataFrame original, sem a necessidade de criar uma cópia."
   ]
  },
  {
   "cell_type": "markdown",
   "id": "85515d84",
   "metadata": {},
   "source": [
    "Age: A idade é uma informação importante para a análise de sobrevivência. Você pode preencher os valores ausentes com a média ou a mediana da coluna, ou até mesmo usar a média por classe (Pclass), pois a idade média pode variar entre a primeira e a terceira classe."
   ]
  },
  {
   "cell_type": "code",
   "execution_count": 5,
   "id": "57cb63f2",
   "metadata": {},
   "outputs": [],
   "source": [
    "# Preenche os valores nulos de 'Age' com a mediana da idade por classe (Pclass)\n",
    "titanic_df['Age'] = titanic_df.groupby('Pclass')['Age'].transform(lambda x: x.fillna(x.median())) # groupby agrupa os dados por 'Pclass', transform aplica a função a cada grupo, e lambda x: x.fillna(x.median()) preenche os valores nulos com a mediana do grupo."
   ]
  },
  {
   "cell_type": "markdown",
   "id": "052e868c",
   "metadata": {},
   "source": [
    "Embarked: Esta coluna tem poucos valores ausentes. Você pode preenchê-los com a moda (o valor que mais se repete)."
   ]
  },
  {
   "cell_type": "code",
   "execution_count": 8,
   "id": "ec1a7fed",
   "metadata": {
    "scrolled": true
   },
   "outputs": [],
   "source": [
    "# Preenche os valores nulos de 'Embarked' com a moda da coluna\n",
    "import numpy as np \n",
    "titanic_df['Embarked'].fillna(titanic_df['Embarked'].mode()[0], inplace=True) # mode()[0] obtém o valor mais frequente (moda) na coluna 'Embarked' e fillna preenche os valores nulos com esse valor. inplace=True aplica a alteração diretamente no DataFrame original."
   ]
  },
  {
   "cell_type": "code",
   "execution_count": 9,
   "id": "19318af3",
   "metadata": {},
   "outputs": [
    {
     "data": {
      "text/html": [
       "<div>\n",
       "<style scoped>\n",
       "    .dataframe tbody tr th:only-of-type {\n",
       "        vertical-align: middle;\n",
       "    }\n",
       "\n",
       "    .dataframe tbody tr th {\n",
       "        vertical-align: top;\n",
       "    }\n",
       "\n",
       "    .dataframe thead th {\n",
       "        text-align: right;\n",
       "    }\n",
       "</style>\n",
       "<table border=\"1\" class=\"dataframe\">\n",
       "  <thead>\n",
       "    <tr style=\"text-align: right;\">\n",
       "      <th></th>\n",
       "      <th>Count</th>\n",
       "      <th>Proportion</th>\n",
       "    </tr>\n",
       "  </thead>\n",
       "  <tbody>\n",
       "    <tr>\n",
       "      <th>PassengerId</th>\n",
       "      <td>0</td>\n",
       "      <td>0.0</td>\n",
       "    </tr>\n",
       "    <tr>\n",
       "      <th>Survived</th>\n",
       "      <td>0</td>\n",
       "      <td>0.0</td>\n",
       "    </tr>\n",
       "    <tr>\n",
       "      <th>Pclass</th>\n",
       "      <td>0</td>\n",
       "      <td>0.0</td>\n",
       "    </tr>\n",
       "    <tr>\n",
       "      <th>Name</th>\n",
       "      <td>0</td>\n",
       "      <td>0.0</td>\n",
       "    </tr>\n",
       "    <tr>\n",
       "      <th>Sex</th>\n",
       "      <td>0</td>\n",
       "      <td>0.0</td>\n",
       "    </tr>\n",
       "    <tr>\n",
       "      <th>Age</th>\n",
       "      <td>0</td>\n",
       "      <td>0.0</td>\n",
       "    </tr>\n",
       "    <tr>\n",
       "      <th>SibSp</th>\n",
       "      <td>0</td>\n",
       "      <td>0.0</td>\n",
       "    </tr>\n",
       "    <tr>\n",
       "      <th>Parch</th>\n",
       "      <td>0</td>\n",
       "      <td>0.0</td>\n",
       "    </tr>\n",
       "    <tr>\n",
       "      <th>Ticket</th>\n",
       "      <td>0</td>\n",
       "      <td>0.0</td>\n",
       "    </tr>\n",
       "    <tr>\n",
       "      <th>Fare</th>\n",
       "      <td>0</td>\n",
       "      <td>0.0</td>\n",
       "    </tr>\n",
       "    <tr>\n",
       "      <th>Embarked</th>\n",
       "      <td>0</td>\n",
       "      <td>0.0</td>\n",
       "    </tr>\n",
       "  </tbody>\n",
       "</table>\n",
       "</div>"
      ],
      "text/plain": [
       "             Count  Proportion\n",
       "PassengerId      0         0.0\n",
       "Survived         0         0.0\n",
       "Pclass           0         0.0\n",
       "Name             0         0.0\n",
       "Sex              0         0.0\n",
       "Age              0         0.0\n",
       "SibSp            0         0.0\n",
       "Parch            0         0.0\n",
       "Ticket           0         0.0\n",
       "Fare             0         0.0\n",
       "Embarked         0         0.0"
      ]
     },
     "execution_count": 9,
     "metadata": {},
     "output_type": "execute_result"
    }
   ],
   "source": [
    "titanic_df.isnull() # isnull verifica valores nulos no DataFrame\n",
    "titanic_df.isnull().sum()/len(titanic_df) # sun soma a quantidade de valores nulos por coluna e divide pelo total de linhas do DataFrame    \n",
    "\n",
    "pd.DataFrame(zip(titanic_df.isnull().sum(),titanic_df.isnull().sum()/len(titanic_df)), columns=['Count', 'Proportion'], index=titanic_df.columns) # zip combina os dois resultados em um único DataFrame com colunas 'Count' e 'Proportion', onde 'Count' é a contagem de valores nulos e 'Proportion' é a proporção de valores nulos em relação ao total de linhas do DataFrame."
   ]
  },
  {
   "cell_type": "markdown",
   "id": "9bbac43a",
   "metadata": {},
   "source": [
    "## Tratamento de Dados Categóricos\n",
    "\n",
    "A maioria dos modelos de Machine Learning só funciona com dados numéricos. Colunas como Sex e Embarked precisam ser convertidas."
   ]
  },
  {
   "cell_type": "code",
   "execution_count": 10,
   "id": "fd2765de",
   "metadata": {},
   "outputs": [
    {
     "name": "stdout",
     "output_type": "stream",
     "text": [
      "Colunas categóricas: ['Name', 'Sex', 'Ticket', 'Embarked']\n"
     ]
    }
   ],
   "source": [
    "# Identifica colunas categóricas (tipo object)\n",
    "colunas_categoricas = titanic_df.select_dtypes(include='object').columns.tolist()\n",
    "print(\"Colunas categóricas:\", colunas_categoricas) # select_dtypes seleciona colunas do tipo 'object' (categóricas) e columns.tolist() converte o índice das colunas em uma lista."
   ]
  },
  {
   "cell_type": "markdown",
   "id": "7b2a904d",
   "metadata": {},
   "source": [
    "Para mapear colunas binárias, como Sex, para valores numéricos (1 e 2)"
   ]
  },
  {
   "cell_type": "code",
   "execution_count": 11,
   "id": "637403cc",
   "metadata": {},
   "outputs": [],
   "source": [
    "# Mapeia a coluna 'Sex' para valores numéricos: 'male' = 1, 'female' = 2\n",
    "titanic_df['Sex'] = titanic_df['Sex'].map({'male': 1, 'female': 2}) # map substitui os valores na coluna "
   ]
  },
  {
   "cell_type": "markdown",
   "id": "5a6b7299",
   "metadata": {},
   "source": [
    "Usar One-Hot Encoding: Para colunas com mais de dois valores, como Embarked ('S', 'C', 'Q'), o melhor é usar uma técnica chamada One-Hot Encoding. Isso cria uma nova coluna para cada valor único, e atribui 1 se o valor estiver presente e 0 se não estiver. Isso evita que o modelo interprete uma ordem entre os valores (ex: S > C > Q, o que não faz sentido)."
   ]
  },
  {
   "cell_type": "code",
   "execution_count": 12,
   "id": "5b8f85eb",
   "metadata": {},
   "outputs": [],
   "source": [
    "# Aplica One-Hot Encoding na coluna 'Embarked'\n",
    "titanic_df = pd.get_dummies(titanic_df, columns=['Embarked']) # get_dummies cria colunas binárias para cada categoria na coluna 'Embarked' e substitui a coluna original no DataFrame."
   ]
  },
  {
   "cell_type": "code",
   "execution_count": 13,
   "id": "79995c24",
   "metadata": {},
   "outputs": [
    {
     "name": "stdout",
     "output_type": "stream",
     "text": [
      "Colunas categóricas: ['Name', 'Ticket']\n"
     ]
    }
   ],
   "source": [
    "# Identifica colunas categóricas (tipo object)\n",
    "colunas_categoricas = titanic_df.select_dtypes(include='object').columns.tolist()\n",
    "print(\"Colunas categóricas:\", colunas_categoricas) # select_dtypes seleciona colunas do tipo 'object' (categóricas) e columns.tolist() converte o índice das colunas em uma lista."
   ]
  },
  {
   "cell_type": "markdown",
   "id": "7a14eda0",
   "metadata": {},
   "source": [
    "Visualizando as mudanças nas colunas"
   ]
  },
  {
   "cell_type": "code",
   "execution_count": 14,
   "id": "ee8cd0d3",
   "metadata": {},
   "outputs": [
    {
     "name": "stdout",
     "output_type": "stream",
     "text": [
      "<class 'pandas.core.frame.DataFrame'>\n",
      "RangeIndex: 891 entries, 0 to 890\n",
      "Data columns (total 13 columns):\n",
      " #   Column       Non-Null Count  Dtype  \n",
      "---  ------       --------------  -----  \n",
      " 0   PassengerId  891 non-null    int64  \n",
      " 1   Survived     891 non-null    int64  \n",
      " 2   Pclass       891 non-null    int64  \n",
      " 3   Name         891 non-null    object \n",
      " 4   Sex          891 non-null    int64  \n",
      " 5   Age          891 non-null    float64\n",
      " 6   SibSp        891 non-null    int64  \n",
      " 7   Parch        891 non-null    int64  \n",
      " 8   Ticket       891 non-null    object \n",
      " 9   Fare         891 non-null    float64\n",
      " 10  Embarked_C   891 non-null    bool   \n",
      " 11  Embarked_Q   891 non-null    bool   \n",
      " 12  Embarked_S   891 non-null    bool   \n",
      "dtypes: bool(3), float64(2), int64(6), object(2)\n",
      "memory usage: 72.3+ KB\n"
     ]
    }
   ],
   "source": [
    "titanic_df.info() # o método .info() serve para obter um resumo rápido. Isso te diz o tipo de dado de cada coluna (numérico, objeto, etc.), e o mais importante, quantos valores não-nulos existem"
   ]
  },
  {
   "cell_type": "markdown",
   "id": "0fa195e5",
   "metadata": {},
   "source": [
    "Após tratar os dados ausentes e as colunas categóricas, criamos novas variáveis que capturam informações mais ricas."
   ]
  },
  {
   "cell_type": "markdown",
   "id": "7cafa379",
   "metadata": {},
   "source": [
    "Variável FamilySize (Tamanho da Família)"
   ]
  },
  {
   "cell_type": "code",
   "execution_count": 15,
   "id": "43f201f7",
   "metadata": {},
   "outputs": [],
   "source": [
    "# Cria a coluna 'FamilySize' somando SibSp, Parch e adicionando 1 (o próprio passageiro)\n",
    "titanic_df['FamilySize'] = titanic_df['SibSp'] + titanic_df['Parch'] + 1 # cria uma nova coluna 'FamilySize' que é a soma das colunas 'SibSp' e 'Parch', mais 1 para incluir o próprio passageiro."
   ]
  },
  {
   "cell_type": "markdown",
   "id": "1c005aee",
   "metadata": {},
   "source": [
    "Variável IsAlone (Está Sozinho):"
   ]
  },
  {
   "cell_type": "code",
   "execution_count": 16,
   "id": "f461e319",
   "metadata": {},
   "outputs": [],
   "source": [
    "# Cria a coluna 'IsAlone': 1 se o passageiro está sozinho, 0 caso contrário\n",
    "titanic_df['IsAlone'] = titanic_df['FamilySize'].apply(lambda x: 1 if x == 1 else 2) # apply aplica a função lambda a cada valor na coluna 'FamilySize', retornando 1 se o valor for 1 (passageiro sozinho) e 2 caso contrário."
   ]
  },
  {
   "cell_type": "markdown",
   "id": "594bd283",
   "metadata": {},
   "source": [
    "Tratar a Coluna Age de Forma Mais Inteligente:\n",
    "\n",
    "Em vez de apenas usar a idade exata, que pode ter valores ausentes e uma distribuição ampla, criamos faixas etárias.\n",
    "\n",
    "Por quê? A taxa de sobrevivência para uma criança de 2 anos é provavelmente muito diferente da de um adulto de 45, mas similar à de uma criança de 5 anos."
   ]
  },
  {
   "cell_type": "code",
   "execution_count": 17,
   "id": "0ce8f72b",
   "metadata": {},
   "outputs": [],
   "source": [
    "# Criando a coluna 'AgeGroup' categorizando os passageiros por faixa etária\n",
    "def categoriza_idade(age): # define a função categoriza_idade que recebe a idade como entrada\n",
    "    if age < 13: # se a idade for menor que 13\n",
    "        return 'Criança' # retorna 'Criança'\n",
    "    elif age < 18:# se a idade for menor que 18\n",
    "        return 'Adolescente'# retorna 'Adolescente'\n",
    "    elif age < 60:# se a idade for menor que 60\n",
    "        return 'Adulto'# retorna 'Adulto'\n",
    "    else:# se não for nenhuma das anteriores\n",
    "        return 'Idoso'# retorna 'Idoso'\n",
    "\n",
    "titanic_df['AgeGroup'] = titanic_df['Age'].apply(categoriza_idade) # apply aplica a função categoriza_idade a cada valor na coluna 'Age' e cria uma nova coluna 'AgeGroup' com os resultados."
   ]
  },
  {
   "cell_type": "markdown",
   "id": "01cf85fb",
   "metadata": {},
   "source": [
    "Tratamos a Coluna Fare (Tarifa):\n",
    "\n",
    "A tarifa também pode ser uma variável importante. No entanto, ela tem uma distribuição muito concentrada em valores baixos e poucos valores altos.\n",
    "\n",
    "Você pode usar uma transformação logarítmica para deixar a distribuição mais \"normal\" ou, similar à idade, criar faixas de tarifa."
   ]
  },
  {
   "cell_type": "code",
   "execution_count": 18,
   "id": "3378ffd3",
   "metadata": {},
   "outputs": [
    {
     "data": {
      "text/html": [
       "<div>\n",
       "<style scoped>\n",
       "    .dataframe tbody tr th:only-of-type {\n",
       "        vertical-align: middle;\n",
       "    }\n",
       "\n",
       "    .dataframe tbody tr th {\n",
       "        vertical-align: top;\n",
       "    }\n",
       "\n",
       "    .dataframe thead th {\n",
       "        text-align: right;\n",
       "    }\n",
       "</style>\n",
       "<table border=\"1\" class=\"dataframe\">\n",
       "  <thead>\n",
       "    <tr style=\"text-align: right;\">\n",
       "      <th></th>\n",
       "      <th>PassengerId</th>\n",
       "      <th>Survived</th>\n",
       "      <th>Pclass</th>\n",
       "      <th>Name</th>\n",
       "      <th>Sex</th>\n",
       "      <th>Age</th>\n",
       "      <th>SibSp</th>\n",
       "      <th>Parch</th>\n",
       "      <th>Ticket</th>\n",
       "      <th>Fare</th>\n",
       "      <th>Embarked_C</th>\n",
       "      <th>Embarked_Q</th>\n",
       "      <th>Embarked_S</th>\n",
       "      <th>FamilySize</th>\n",
       "      <th>IsAlone</th>\n",
       "      <th>AgeGroup</th>\n",
       "      <th>FareGroup</th>\n",
       "    </tr>\n",
       "  </thead>\n",
       "  <tbody>\n",
       "    <tr>\n",
       "      <th>0</th>\n",
       "      <td>1</td>\n",
       "      <td>0</td>\n",
       "      <td>3</td>\n",
       "      <td>Braund, Mr. Owen Harris</td>\n",
       "      <td>1</td>\n",
       "      <td>22.0</td>\n",
       "      <td>1</td>\n",
       "      <td>0</td>\n",
       "      <td>A/5 21171</td>\n",
       "      <td>7.2500</td>\n",
       "      <td>False</td>\n",
       "      <td>False</td>\n",
       "      <td>True</td>\n",
       "      <td>2</td>\n",
       "      <td>2</td>\n",
       "      <td>Adulto</td>\n",
       "      <td>Baixa</td>\n",
       "    </tr>\n",
       "    <tr>\n",
       "      <th>1</th>\n",
       "      <td>2</td>\n",
       "      <td>1</td>\n",
       "      <td>1</td>\n",
       "      <td>Cumings, Mrs. John Bradley (Florence Briggs Th...</td>\n",
       "      <td>2</td>\n",
       "      <td>38.0</td>\n",
       "      <td>1</td>\n",
       "      <td>0</td>\n",
       "      <td>PC 17599</td>\n",
       "      <td>71.2833</td>\n",
       "      <td>True</td>\n",
       "      <td>False</td>\n",
       "      <td>False</td>\n",
       "      <td>2</td>\n",
       "      <td>2</td>\n",
       "      <td>Adulto</td>\n",
       "      <td>Muito Alta</td>\n",
       "    </tr>\n",
       "    <tr>\n",
       "      <th>2</th>\n",
       "      <td>3</td>\n",
       "      <td>1</td>\n",
       "      <td>3</td>\n",
       "      <td>Heikkinen, Miss. Laina</td>\n",
       "      <td>2</td>\n",
       "      <td>26.0</td>\n",
       "      <td>0</td>\n",
       "      <td>0</td>\n",
       "      <td>STON/O2. 3101282</td>\n",
       "      <td>7.9250</td>\n",
       "      <td>False</td>\n",
       "      <td>False</td>\n",
       "      <td>True</td>\n",
       "      <td>1</td>\n",
       "      <td>1</td>\n",
       "      <td>Adulto</td>\n",
       "      <td>Baixa</td>\n",
       "    </tr>\n",
       "    <tr>\n",
       "      <th>3</th>\n",
       "      <td>4</td>\n",
       "      <td>1</td>\n",
       "      <td>1</td>\n",
       "      <td>Futrelle, Mrs. Jacques Heath (Lily May Peel)</td>\n",
       "      <td>2</td>\n",
       "      <td>35.0</td>\n",
       "      <td>1</td>\n",
       "      <td>0</td>\n",
       "      <td>113803</td>\n",
       "      <td>53.1000</td>\n",
       "      <td>False</td>\n",
       "      <td>False</td>\n",
       "      <td>True</td>\n",
       "      <td>2</td>\n",
       "      <td>2</td>\n",
       "      <td>Adulto</td>\n",
       "      <td>Alta</td>\n",
       "    </tr>\n",
       "    <tr>\n",
       "      <th>4</th>\n",
       "      <td>5</td>\n",
       "      <td>0</td>\n",
       "      <td>3</td>\n",
       "      <td>Allen, Mr. William Henry</td>\n",
       "      <td>1</td>\n",
       "      <td>35.0</td>\n",
       "      <td>0</td>\n",
       "      <td>0</td>\n",
       "      <td>373450</td>\n",
       "      <td>8.0500</td>\n",
       "      <td>False</td>\n",
       "      <td>False</td>\n",
       "      <td>True</td>\n",
       "      <td>1</td>\n",
       "      <td>1</td>\n",
       "      <td>Adulto</td>\n",
       "      <td>Baixa</td>\n",
       "    </tr>\n",
       "  </tbody>\n",
       "</table>\n",
       "</div>"
      ],
      "text/plain": [
       "   PassengerId  Survived  Pclass  \\\n",
       "0            1         0       3   \n",
       "1            2         1       1   \n",
       "2            3         1       3   \n",
       "3            4         1       1   \n",
       "4            5         0       3   \n",
       "\n",
       "                                                Name  Sex   Age  SibSp  Parch  \\\n",
       "0                            Braund, Mr. Owen Harris    1  22.0      1      0   \n",
       "1  Cumings, Mrs. John Bradley (Florence Briggs Th...    2  38.0      1      0   \n",
       "2                             Heikkinen, Miss. Laina    2  26.0      0      0   \n",
       "3       Futrelle, Mrs. Jacques Heath (Lily May Peel)    2  35.0      1      0   \n",
       "4                           Allen, Mr. William Henry    1  35.0      0      0   \n",
       "\n",
       "             Ticket     Fare  Embarked_C  Embarked_Q  Embarked_S  FamilySize  \\\n",
       "0         A/5 21171   7.2500       False       False        True           2   \n",
       "1          PC 17599  71.2833        True       False       False           2   \n",
       "2  STON/O2. 3101282   7.9250       False       False        True           1   \n",
       "3            113803  53.1000       False       False        True           2   \n",
       "4            373450   8.0500       False       False        True           1   \n",
       "\n",
       "   IsAlone AgeGroup   FareGroup  \n",
       "0        2   Adulto       Baixa  \n",
       "1        2   Adulto  Muito Alta  \n",
       "2        1   Adulto       Baixa  \n",
       "3        2   Adulto        Alta  \n",
       "4        1   Adulto       Baixa  "
      ]
     },
     "execution_count": 18,
     "metadata": {},
     "output_type": "execute_result"
    }
   ],
   "source": [
    "# Criamos a coluna 'FareGroup' categorizando os passageiros por faixa de tarifa\n",
    "def categoriza_tarifa(fare): # define a função categoriza_tarifa que recebe a tarifa como entrada\n",
    "    if fare < 10:# se a tarifa for menor que 10\n",
    "        return 'Baixa'# retorna 'Baixa'\n",
    "    elif fare < 30:# se a tarifa for menor que 30\n",
    "        return 'Média'# retorna 'Média'\n",
    "    elif fare < 70:# se a tarifa for menor que 70\n",
    "        return 'Alta'# retorna 'Alta'\n",
    "    else:# se não for nenhuma das anteriores\n",
    "        return 'Muito Alta'# retorna 'Muito Alta'\n",
    "\n",
    "titanic_df['FareGroup'] = titanic_df['Fare'].apply(categoriza_tarifa)# apply aplica a função categoriza_tarifa a cada valor na coluna 'Fare' e cria uma nova coluna 'FareGroup' com os resultados.\n",
    "\n",
    "titanic_df.head(5) # exibe as 10 primeiras linhas do DataFrame"
   ]
  },
  {
   "cell_type": "markdown",
   "id": "de897227",
   "metadata": {},
   "source": [
    "Extrair o Título do Nome (Name):\n",
    "\n",
    "A coluna Name parece inútil, mas o título (Sr., Sra., Miss., Master, etc.) pode ter um forte poder preditivo.\n",
    "\n",
    "'Miss' e 'Master' geralmente indicam crianças ou mulheres jovens, enquanto 'Mr' e 'Mrs' indicam adultos.\n",
    "\n",
    "Extraimos o título do nome e criamos uma nova coluna Title. Isso pode ser extremamente útil para prever a sobrevivência."
   ]
  },
  {
   "cell_type": "code",
   "execution_count": 19,
   "id": "1d566969",
   "metadata": {},
   "outputs": [],
   "source": [
    "# Extraindo o título do nome e criando a coluna 'Title'\n",
    "titanic_df['Title'] = titanic_df['Name'].str.extract(r',\\s*([^\\.]+)\\.', expand=False).str.strip() # str.extract usa uma expressão regular para extrair o título do nome, expand=False retorna uma Série em vez de um DataFrame, e str.strip() remove espaços em branco extras."
   ]
  },
  {
   "cell_type": "code",
   "execution_count": 20,
   "id": "ca2ac54f",
   "metadata": {},
   "outputs": [
    {
     "data": {
      "text/html": [
       "<div>\n",
       "<style scoped>\n",
       "    .dataframe tbody tr th:only-of-type {\n",
       "        vertical-align: middle;\n",
       "    }\n",
       "\n",
       "    .dataframe tbody tr th {\n",
       "        vertical-align: top;\n",
       "    }\n",
       "\n",
       "    .dataframe thead th {\n",
       "        text-align: right;\n",
       "    }\n",
       "</style>\n",
       "<table border=\"1\" class=\"dataframe\">\n",
       "  <thead>\n",
       "    <tr style=\"text-align: right;\">\n",
       "      <th></th>\n",
       "      <th>PassengerId</th>\n",
       "      <th>Survived</th>\n",
       "      <th>Pclass</th>\n",
       "      <th>Name</th>\n",
       "      <th>Sex</th>\n",
       "      <th>Age</th>\n",
       "      <th>SibSp</th>\n",
       "      <th>Parch</th>\n",
       "      <th>Ticket</th>\n",
       "      <th>Fare</th>\n",
       "      <th>Embarked_C</th>\n",
       "      <th>Embarked_Q</th>\n",
       "      <th>Embarked_S</th>\n",
       "      <th>FamilySize</th>\n",
       "      <th>IsAlone</th>\n",
       "      <th>AgeGroup</th>\n",
       "      <th>FareGroup</th>\n",
       "      <th>Title</th>\n",
       "    </tr>\n",
       "  </thead>\n",
       "  <tbody>\n",
       "    <tr>\n",
       "      <th>0</th>\n",
       "      <td>1</td>\n",
       "      <td>0</td>\n",
       "      <td>3</td>\n",
       "      <td>Braund, Mr. Owen Harris</td>\n",
       "      <td>1</td>\n",
       "      <td>22.0</td>\n",
       "      <td>1</td>\n",
       "      <td>0</td>\n",
       "      <td>A/5 21171</td>\n",
       "      <td>7.2500</td>\n",
       "      <td>False</td>\n",
       "      <td>False</td>\n",
       "      <td>True</td>\n",
       "      <td>2</td>\n",
       "      <td>2</td>\n",
       "      <td>Adulto</td>\n",
       "      <td>Baixa</td>\n",
       "      <td>Mr</td>\n",
       "    </tr>\n",
       "    <tr>\n",
       "      <th>1</th>\n",
       "      <td>2</td>\n",
       "      <td>1</td>\n",
       "      <td>1</td>\n",
       "      <td>Cumings, Mrs. John Bradley (Florence Briggs Th...</td>\n",
       "      <td>2</td>\n",
       "      <td>38.0</td>\n",
       "      <td>1</td>\n",
       "      <td>0</td>\n",
       "      <td>PC 17599</td>\n",
       "      <td>71.2833</td>\n",
       "      <td>True</td>\n",
       "      <td>False</td>\n",
       "      <td>False</td>\n",
       "      <td>2</td>\n",
       "      <td>2</td>\n",
       "      <td>Adulto</td>\n",
       "      <td>Muito Alta</td>\n",
       "      <td>Mrs</td>\n",
       "    </tr>\n",
       "    <tr>\n",
       "      <th>2</th>\n",
       "      <td>3</td>\n",
       "      <td>1</td>\n",
       "      <td>3</td>\n",
       "      <td>Heikkinen, Miss. Laina</td>\n",
       "      <td>2</td>\n",
       "      <td>26.0</td>\n",
       "      <td>0</td>\n",
       "      <td>0</td>\n",
       "      <td>STON/O2. 3101282</td>\n",
       "      <td>7.9250</td>\n",
       "      <td>False</td>\n",
       "      <td>False</td>\n",
       "      <td>True</td>\n",
       "      <td>1</td>\n",
       "      <td>1</td>\n",
       "      <td>Adulto</td>\n",
       "      <td>Baixa</td>\n",
       "      <td>Miss</td>\n",
       "    </tr>\n",
       "  </tbody>\n",
       "</table>\n",
       "</div>"
      ],
      "text/plain": [
       "   PassengerId  Survived  Pclass  \\\n",
       "0            1         0       3   \n",
       "1            2         1       1   \n",
       "2            3         1       3   \n",
       "\n",
       "                                                Name  Sex   Age  SibSp  Parch  \\\n",
       "0                            Braund, Mr. Owen Harris    1  22.0      1      0   \n",
       "1  Cumings, Mrs. John Bradley (Florence Briggs Th...    2  38.0      1      0   \n",
       "2                             Heikkinen, Miss. Laina    2  26.0      0      0   \n",
       "\n",
       "             Ticket     Fare  Embarked_C  Embarked_Q  Embarked_S  FamilySize  \\\n",
       "0         A/5 21171   7.2500       False       False        True           2   \n",
       "1          PC 17599  71.2833        True       False       False           2   \n",
       "2  STON/O2. 3101282   7.9250       False       False        True           1   \n",
       "\n",
       "   IsAlone AgeGroup   FareGroup Title  \n",
       "0        2   Adulto       Baixa    Mr  \n",
       "1        2   Adulto  Muito Alta   Mrs  \n",
       "2        1   Adulto       Baixa  Miss  "
      ]
     },
     "execution_count": 20,
     "metadata": {},
     "output_type": "execute_result"
    }
   ],
   "source": [
    "titanic_df.head(3) # exibe as 10 primeiras linhas do DataFrame"
   ]
  },
  {
   "cell_type": "markdown",
   "id": "baa34234",
   "metadata": {},
   "source": [
    "# Análises"
   ]
  },
  {
   "cell_type": "markdown",
   "id": "155480a9",
   "metadata": {},
   "source": [
    "**Análise 1**: Distribuição e Sobrevivência por Sexo e Classe\n",
    "Essa é a análise mais fundamental, pois a história sugere que a sobrevivência foi fortemente influenciada por esses dois fatores.\n",
    "\n",
    "Pergunta: Qual é a taxa de sobrevivência entre homens e mulheres? E como essa taxa muda entre as classes sociais?\n",
    "\n",
    "Análise:\n",
    "\n",
    "Gráfico de Barras Agrupadas (barplot): Mostra a taxa de sobrevivência (Survived) para cada categoria de Sex(1= masc e 2= fem), separada por Pclass. Usando Seaborn, pois ele já calcula a média e a incerteza automaticamente."
   ]
  },
  {
   "cell_type": "code",
   "execution_count": 21,
   "id": "65610d56",
   "metadata": {},
   "outputs": [
    {
     "data": {
      "image/png": "[encoded data removed]",
      "text/plain": [
       "<Figure size 640x480 with 1 Axes>"
      ]
     },
     "metadata": {},
     "output_type": "display_data"
    }
   ],
   "source": [
    "import seaborn as sns # importando a biblioteca seaborn para visualização de dados\n",
    "import matplotlib.pyplot as plt # importando a biblioteca matplotlib para visualização de dados\n",
    "\n",
    "sns.barplot(x='Pclass', y='Survived', hue='Sex', data=titanic_df) # cria um gráfico de barras agrupadas (barplot) com 'Pclass' no eixo x, 'Survived' no eixo y, e separação por '\n",
    "plt.title('Taxa de Sobrevivência por Classe e Sexo')# adiciona um título ao gráfico\n",
    "plt.xlabel('Classe do Passageiro (Pclass)')# adiciona um rótulo ao eixo x\n",
    "plt.show()# exibe o gráfico"
   ]
  },
  {
   "cell_type": "markdown",
   "id": "b7b117bf",
   "metadata": {},
   "source": [
    "Visualização: O gráfico mostra claramente que a taxa de sobrevivência feminina foi significativamente maior que a masculina em todas as classes, mas a diferença é ainda mais notável entre as classes mais baixas."
   ]
  },
  {
   "cell_type": "markdown",
   "id": "ec354a5c",
   "metadata": {},
   "source": [
    "**Análise 2**: Relação entre Idade e Sobrevivência\n",
    "A idade é uma variável contínua, então a forma de visualizá-la precisa ser diferente.\n",
    "\n",
    "Pergunta: A idade influenciou a taxa de sobrevivência? Crianças e idosos tiveram mais ou menos chances?\n",
    "\n",
    "Análise:\n",
    "\n",
    "Histogramas (histplot): Foi criado dois histogramas, um para os passageiros que sobreviveram e outro para os que não sobreviveram, para comparar a distribuição de Age entre os dois grupos.\n",
    "\n",
    "Gráfico de Linha (lineplot): Para uma análise mais suave usamos um gráfico de linha. Ele pode mostrar a taxa média de sobrevivência (Survived) em relação a Age."
   ]
  },
  {
   "cell_type": "code",
   "execution_count": null,
   "id": "cb446212",
   "metadata": {},
   "outputs": [],
   "source": [
    "plt.figure(figsize=(10, 6)) # define o tamanho da figura do gráfico\n",
    "sns.histplot(data=df, x='Age', hue='Survived', kde=True, bins=30)# cria um histograma da coluna 'Age', com separação por 'Survived', adicionando uma linha de densidade (kde) e definindo o número de bins (barras) para 30\n",
    "plt.title('Distribuição de Idade por Sobrevivência') # adiciona um título ao gráfico\n",
    "plt.show() # exibe o gráfico"
   ]
  },
  {
   "cell_type": "markdown",
   "id": "c7c0ac04",
   "metadata": {},
   "source": [
    "Visualização: Você deve notar uma alta taxa de sobrevivência entre as crianças pequenas, o que corrobora a história de \"mulheres e crianças primeiro\"."
   ]
  },
  {
   "cell_type": "markdown",
   "id": "b607326d",
   "metadata": {},
   "source": [
    "**Análise 3**: Relação entre Tarifa e Sobrevivência\n",
    "\n",
    "Pergunta: A tarifa paga pela passagem influenciou a chance de sobrevivência?\n",
    "\n",
    "Análise:\n",
    "\n",
    "Gráfico de Dispersão (scatterplot): Use um gráfico de dispersão para plotar a Fare vs. Age, colorindo os pontos por Survived. Adicionar uma terceira variável (hue) enriquece a análise bivariada.\n",
    "\n",
    "Boxplots (boxplot): Crie um boxplot para comparar a distribuição de Fare para os passageiros que sobreviveram e os que não sobreviveram. O boxplot é excelente para identificar a mediana, quartis e outliers."
   ]
  },
  {
   "cell_type": "code",
   "execution_count": null,
   "id": "df05ca0d",
   "metadata": {},
   "outputs": [],
   "source": [
    "plt.figure(figsize=(10, 6))\n",
    "sns.scatterplot(x='Age', y='Fare', hue='Survived', data=titanic_df)\n",
    "plt.title('Sobrevivência por Idade e Tarifa')\n",
    "plt.show()\n",
    "\n",
    "plt.figure(figsize=(6, 8))\n",
    "sns.boxplot(x='Survived', y='Fare', data=titanic_df)\n",
    "plt.title('Boxplot da Tarifa por Sobrevivência')\n",
    "plt.show()"
   ]
  },
  {
   "cell_type": "markdown",
   "id": "72abdb01",
   "metadata": {},
   "source": [
    "Visualização: Os boxplots provavelmente mostrarão que a mediana da tarifa para os sobreviventes é maior do que a dos não-sobreviventes."
   ]
  },
  {
   "cell_type": "markdown",
   "id": "492e475b",
   "metadata": {},
   "source": [
    "**Análise 4**: Análise Bivariada de Relações\n",
    "Pergunta: Viajar sozinho ou em família influenciou a sobrevivência?\n",
    "\n",
    "Análise:\n",
    "\n",
    "Gráfico de Barras: Crie um gráfico de barras para a nova coluna IsAlone. Mostre a taxa de sobrevivência (Survived) para os passageiros que estavam sozinhos (IsAlone=1) e para os que não estavam."
   ]
  },
  {
   "cell_type": "code",
   "execution_count": null,
   "id": "5e859980",
   "metadata": {},
   "outputs": [],
   "source": [
    "sns.barplot(x='IsAlone', y='Survived', data=titanic_df)# cria um gráfico de barras para a coluna 'IsAlone', mostrando a taxa de sobrevivência (Survived) para passageiros que estavam sozinhos (IsAlone=1) e para os que não estavam (IsAlone=2)\n",
    "plt.title('Taxa de Sobrevivência por Status de Viagem (Sozinho ou em Família)')# adiciona um título ao gráfico\n",
    "plt.xticks(ticks=[0, 1], labels=['Em Família', 'Sozinho'])# define os rótulos do eixo x\n",
    "plt.show()# exibe o gráfico"
   ]
  },
  {
   "cell_type": "markdown",
   "id": "9b4e93ea",
   "metadata": {},
   "source": [
    "Visualização: Você provavelmente verá que a taxa de sobrevivência dos passageiros que viajaram sozinhos foi menor do que a dos que viajaram em família."
   ]
  },
  {
   "cell_type": "markdown",
   "id": "830ffd8e",
   "metadata": {},
   "source": [
    "**Análise 5**: Matriz de Correlação\n",
    "A matriz de correlação é uma ferramenta essencial para entender as relações entre todas as suas variáveis numéricas.\n",
    "\n",
    "Pergunta: Quais variáveis numéricas estão mais correlacionadas entre si?\n",
    "\n",
    "Análise:\n",
    "\n",
    "Mapa de Calor (heatmap): Calcule a matriz de correlação para as colunas numéricas (Age, Fare, Survived, etc.) e visualize-a usando um heatmap."
   ]
  },
  {
   "cell_type": "code",
   "execution_count": null,
   "id": "003f869a",
   "metadata": {},
   "outputs": [],
   "source": [
    "plt.figure(figsize=(10, 8)) # define o tamanho da figura do gráfico\n",
    "sns.heatmap(titanic_df.corr(numeric_only=True), annot=True, cmap='coolwarm', fmt='.2f') # cria um mapa de calor (heatmap) da matriz de correlação das colunas numéricas do DataFrame, com anotações dos valores, usando a paleta de cores 'coolwarm' e formatando os números com 2 casas decimais\n",
    "plt.title('Matriz de Correlação das Variáveis Numéricas')# adiciona um título ao gráfico\n",
    "plt.show()# exibe o gráfico"
   ]
  },
  {
   "cell_type": "markdown",
   "id": "a92d4d6f",
   "metadata": {},
   "source": [
    "Visualização: Os valores próximos de 1 ou -1 indicam uma forte correlação (positiva ou negativa). Por exemplo, Survived deve ter uma correlação negativa com Pclass (quanto maior a classe, menor o número, maior a sobrevivência)."
   ]
  },
  {
   "cell_type": "markdown",
   "id": "ba712216",
   "metadata": {},
   "source": [
    "**Análise 6**: Porcentagem de Sobrevivência por Classe\n",
    "Pergunta: Qual a relação entre a classe de passagem (Pclass) e a porcentagem de sobrevivência?\n",
    "\n",
    "Hipótese: A taxa de sobrevivência é maior para passageiros de classes mais altas, já que eles provavelmente tiveram acesso mais fácil aos botes salva-vidas."
   ]
  },
  {
   "cell_type": "code",
   "execution_count": null,
   "id": "5a2deb77",
   "metadata": {},
   "outputs": [],
   "source": [
    "# Calcular a taxa de sobrevivência por classe\n",
    "survival_rate_by_pclass = titanic_df.groupby('Pclass')['Survived'].mean().reset_index()# agrupa os dados por 'Pclass', calcula a média da coluna 'Survived' para cada classe, e reseta o índice para transformar o resultado em um DataFrame\n",
    "\n",
    "# Visualizar com um gráfico de barras usando Seaborn\n",
    "plt.figure(figsize=(8, 6))# define o tamanho da figura do gráfico\n",
    "sns.barplot(x='Pclass', y='Survived', data=survival_rate_by_pclass, palette='viridis')# cria um gráfico de barras (barplot) com 'Pclass' no eixo x e a taxa de sobrevivência média ('Survived') no eixo y, usando a paleta de cores 'viridis'\n",
    "\n",
    "# Adicionar título e rótulos\n",
    "plt.title('Taxa de Sobrevivência por Classe de Passageiro', fontsize=16)# adiciona um título ao gráfico com fonte de tamanho 16\n",
    "plt.xlabel('Classe de Passageiro', fontsize=12)# adiciona um rótulo ao eixo x com fonte de tamanho 12\n",
    "plt.ylabel('Taxa de Sobrevivência', fontsize=12)# adiciona um rótulo ao eixo y com fonte de tamanho 12\n",
    "plt.xticks(ticks=[0, 1, 2], labels=['1ª Classe', '2ª Classe', '3ª Classe'])# define os rótulos do eixo x\n",
    "\n",
    "# Adicionar porcentagens acima das barras para melhor visualização\n",
    "for index, row in survival_rate_by_pclass.iterrows():# itera sobre cada linha do DataFrame survival_rate_by_pclass\n",
    "    plt.text(row.name, row.Survived + 0.01, f'{row.Survived:.2%}', color='black', ha=\"center\")# adiciona um texto acima de cada barra no gráfico, mostrando a taxa de sobrevivência formatada como porcentagem com 2 casas decimais\n",
    "\n",
    "plt.show()# exibe o gráfico"
   ]
  },
  {
   "cell_type": "markdown",
   "id": "57b7cf12",
   "metadata": {},
   "source": [
    "Conclusão: A análise confirma a hipótese inicial. A taxa de sobrevivência dos passageiros da 1ª classe foi significativamente maior do que a da 2ª, que por sua vez foi maior que a da 3ª classe. Isso sugere que a classe social foi um fator determinante para a sobrevivência no naufrágio."
   ]
  },
  {
   "cell_type": "markdown",
   "id": "88723309",
   "metadata": {},
   "source": [
    "**Análise 7**: Distribuição da Tarifa\n",
    "Pergunta: Como a tarifa (Fare) dos passageiros está distribuída? Quais são a média, a mediana e a moda dessa distribuição?\n",
    "\n",
    "Análise: Combinar o boxplot e o histograma em um único gráfico é uma excelente técnica.\n",
    "\n",
    "O histograma nos mostra a frequência de diferentes faixas de tarifa, revelando se a distribuição é simétrica, inclinada para a direita ou esquerda, ou se tem picos múltiplos.\n",
    "\n",
    "O boxplot resume a distribuição com quartis, a mediana e identifica os valores atípicos (outliers), que neste caso representam as tarifas mais caras."
   ]
  },
  {
   "cell_type": "code",
   "execution_count": null,
   "id": "3bf246b5",
   "metadata": {},
   "outputs": [],
   "source": [
    "import numpy as np# importando a biblioteca numpy para operações numéricas\n",
    "import matplotlib.ticker as mtick # importando a biblioteca matplotlib.ticker para formatação de ticks em gráficos\n",
    "\n",
    "# Passo 1: Adicionar 1 para evitar log(0) e aplicar a transformação logarítmica\n",
    "titanic_df['Fare_log'] = titanic_df['Fare'].apply(lambda x: x + 1).apply(np.log)# cria uma nova coluna 'Fare_log' aplicando a transformação logarítmica na coluna 'Fare', adicionando 1 para evitar log(0)\n",
    "\n",
    "# Passo 2: Criar a visualização combinada\n",
    "fig, (ax1, ax2) = plt.subplots(\n",
    "    nrows=2,\n",
    "    ncols=1,\n",
    "    sharex=True,\n",
    "    gridspec_kw={\"height_ratios\": (0.15, 0.85), \"hspace\": 0.02},\n",
    "    figsize=(10, 8)\n",
    ")\n",
    "\n",
    "# Boxplot da Tarifa com transformação logarítmica\n",
    "sns.boxplot(\n",
    "    x=\"Fare_log\",\n",
    "    data=titanic_df,\n",
    "    ax=ax1,\n",
    "    showmeans=True,# indica que a média deve ser destacada no boxplot\n",
    "    meanline=True,# indica que a média deve ser representada por uma linha no boxplot\n",
    "    meanprops={\"color\": \"C1\", \"linestyle\": \"--\", \"linewidth\": 1},# define as propriedades da linha que representa a média no boxplot\n",
    ")\n",
    "ax1.set_xlabel(\"\")# remove o rótulo do eixo x\n",
    "ax1.set_title('Distribuição da Tarifa (Escala Logarítmica)', fontsize=14)# adiciona um título ao gráfico com fonte de tamanho 14\n",
    "\n",
    "# Histograma da Tarifa com transformação logarítmica\n",
    "sns.histplot(\n",
    "    x=\"Fare_log\",\n",
    "    data=titanic_df,\n",
    "    bins=50,\n",
    "    kde=True,\n",
    "    ax=ax2,\n",
    ")\n",
    "\n",
    "# Adiciona linhas verticais para a média, mediana e moda\n",
    "ax2.axvline(titanic_df[\"Fare_log\"].mean(), color=\"C1\", linestyle=\"--\", label=\"Média\")\n",
    "ax2.axvline(titanic_df[\"Fare_log\"].median(), color=\"C2\", linestyle=\"--\", label=\"Mediana\")\n",
    "ax2.axvline(titanic_df[\"Fare_log\"].mode()[0], color=\"C3\", linestyle=\"--\", label=\"Moda\")\n",
    "\n",
    "# Configurações de formatação\n",
    "ax2.set_xlabel(\"Tarifa (Escala Logarítmica)\", fontsize=12)\n",
    "ax2.set_ylabel(\"Frequência\", fontsize=12)\n",
    "ax2.tick_params(axis=\"x\", rotation=45)\n",
    "ax2.legend()\n",
    "\n",
    "plt.tight_layout() # Ajusta o layout para evitar sobreposição\n",
    "plt.show()"
   ]
  },
  {
   "cell_type": "markdown",
   "id": "f9ee47f3",
   "metadata": {},
   "source": [
    "Visualização: O gráfico resultante deve mostrar que a distribuição da tarifa é bastante inclinada para a direita, com a maioria dos passageiros pagando tarifas baixas, e a presença de um grande número de outliers. A mediana estará mais próxima do valor de 0, enquanto a média será puxada para cima pelos valores mais altos."
   ]
  }
 ],
 "metadata": {
  "kernelspec": {
   "display_name": "Python 3 (ipykernel)",
   "language": "python",
   "name": "python3"
  },
  "language_info": {
   "codemirror_mode": {
    "name": "ipython",
    "version": 3
   },
   "file_extension": ".py",
   "mimetype": "text/x-python",
   "name": "python",
   "nbconvert_exporter": "python",
   "pygments_lexer": "ipython3",
   "version": "3.11.7"
  }
 },
 "nbformat": 4,
 "nbformat_minor": 5
}
